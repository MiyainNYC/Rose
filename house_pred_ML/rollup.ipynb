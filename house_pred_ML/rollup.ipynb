{
 "cells": [
  {
   "cell_type": "code",
   "execution_count": 1,
   "metadata": {
    "collapsed": true
   },
   "outputs": [],
   "source": [
    "import pandas as pd\n",
    "import numpy as np\n",
    "import seaborn as sns\n",
    "import matplotlib\n",
    "\n",
    "import matplotlib.pyplot as plt\n",
    "from scipy.stats import skew\n",
    "from scipy.stats.stats import pearsonr\n",
    "from sklearn import preprocessing\n",
    "from sklearn.feature_selection import VarianceThreshold\n",
    "from collections import Counter\n",
    "from sklearn.ensemble import RandomForestClassifier\n",
    "from sklearn.model_selection import ShuffleSplit\n",
    "from sklearn.model_selection import cross_val_score\n",
    "\n",
    "%config InlineBackend.figure_format = 'retina' #set 'png' here when working on notebook\n",
    "%matplotlib inline"
   ]
  },
  {
   "cell_type": "code",
   "execution_count": 2,
   "metadata": {
    "collapsed": false
   },
   "outputs": [
    {
     "data": {
      "text/plain": [
       "'C:\\\\Users\\\\mnan\\\\Desktop\\\\viz\\\\house_pred_ML'"
      ]
     },
     "execution_count": 2,
     "metadata": {},
     "output_type": "execute_result"
    }
   ],
   "source": [
    "pwd"
   ]
  },
  {
   "cell_type": "code",
   "execution_count": 3,
   "metadata": {
    "collapsed": true
   },
   "outputs": [],
   "source": [
    "def false_na(train):\n",
    "    train['GarageType']=train['GarageType'].replace({np.nan:'noGarage'})\n",
    "    train['GarageFinish']=train['GarageFinish'].replace({np.nan:'noGarage'})\n",
    "    train['GarageQual']=train['GarageQual'].replace({np.nan:'noGarage'})\n",
    "    train['GarageCars']=train['GarageCars'].replace({np.nan:0})\n",
    "    train['GarageArea']=train['GarageArea'].replace({np.nan:'0'})\n",
    "    train['GarageCond']=train['GarageCond'].replace({np.nan:'noGarage'})\n",
    "    \n",
    "    train['BsmtExposure']=train['BsmtExposure'].replace({np.nan:'noBasement'})\n",
    "    train['BsmtFinType2']=train['BsmtFinType2'].replace({np.nan:'noBasement'})\n",
    "    train['BsmtFinType1']=train['BsmtFinType1'].replace({np.nan:'noBasement'})\n",
    "    train['BsmtCond']=train['BsmtCond'].replace({np.nan:'noBasement'})\n",
    "    train['BsmtQual']=train['BsmtQual'].replace({np.nan:'noBasement'})\n",
    "    train['TotalBsmtSF']=train['TotalBsmtSF'].replace({np.nan:0})\n",
    "    train['BsmtFinSF1']=train['BsmtFinSF1'].replace({np.nan:0})\n",
    "    train['BsmtFinSF2']=train['BsmtFinSF2'].replace({np.nan:0})\n",
    "    train['BsmtUnfSF']=train['BsmtUnfSF'].replace({np.nan:0})\n",
    "    train['TotalBsmtSF']=train['TotalBsmtSF'].replace({np.nan:0})\n",
    "    train['BsmtHalfBath']=train['BsmtHalfBath'].replace({np.nan:0})\n",
    "    train['BsmtFullBath']=train['BsmtFullBath'].replace({np.nan:0})\n",
    "\n",
    "    train['FireplaceQu']=train['FireplaceQu'].replace({np.nan:'noFireplace'})\n",
    "    train['MasVnrType']=train['MasVnrType'].replace({np.nan:'noMasonryVeneer'})\n",
    "    train['MasVnrArea']=train['MasVnrArea'].replace({np.nan:0})  \n",
    "    train['MSZoning']=train['MSZoning'].replace({np.nan:'RL'})  \n",
    "    train['Functional']=train['Functional'].replace({np.nan:'Typ'})  \n",
    "    train['Exterior1st']=train['Exterior1st'].replace({np.nan:'VinylSd'})  \n",
    "    train['Exterior2nd']=train['Exterior2nd'].replace({np.nan:'VinylSd'})  \n",
    "    train['Electrical']=train['Electrical'].replace({np.nan:'SBrkr'})  \n",
    "    train['SaleType']=train['SaleType'].replace({np.nan:'WD'}) \n",
    "    train['KitchenQual']=train['KitchenQual'].replace({np.nan:'TA'})  \n",
    "    \n",
    "    train['LotFrontage']=train['LotFrontage'].replace({np.nan:train['LotFrontage'].median()}) \n",
    "    \n",
    "    return train\n",
    "\n",
    "def check_dtype(df):\n",
    "    for col in df.columns:\n",
    "        df[col] = df[col].astype('float')\n",
    "    print(\"Cols in df are all numerical is %s\"%(sum([df[col].dtypes=='float'\n",
    "                                                     for col in df.columns])==len(df.columns)))\n",
    "    return df\n",
    "\n",
    "def rmse_cv(estimator, X, y):\n",
    "    rmse= np.sqrt(-cross_val_score(estimator, X, y, scoring=\"neg_mean_squared_error\"))\n",
    "    return(np.mean(rmse))"
   ]
  },
  {
   "cell_type": "code",
   "execution_count": 4,
   "metadata": {
    "collapsed": false
   },
   "outputs": [
    {
     "name": "stdout",
     "output_type": "stream",
     "text": [
      "Now we have 73 features\n",
      "          train_dtypes test_dtypes\n",
      "SalePrice        int64         NaN\n",
      "Cols in df are all numerical is True\n",
      "Cols in df are all numerical is True\n",
      "Now we only have 45 features\n",
      "Features we remove are Index(['MSZoning', 'Street', 'LandContour', 'LandSlope', 'Condition1',\n",
      "       'Condition2', 'RoofStyle', 'RoofMatl', 'MasVnrType', 'ExterQual',\n",
      "       'ExterCond', 'Foundation', 'BsmtCond', 'Heating', 'CentralAir',\n",
      "       'BsmtFullBath', 'BsmtHalfBath', 'FullBath', 'HalfBath', 'BedroomAbvGr',\n",
      "       'KitchenAbvGr', 'KitchenQual', 'Functional', 'Fireplaces', 'GarageCars',\n",
      "       'GarageQual', 'GarageCond', 'PavedDrive'],\n",
      "      dtype='object')\n"
     ]
    },
    {
     "name": "stderr",
     "output_type": "stream",
     "text": [
      "C:\\Users\\mnan\\Anaconda3\\lib\\site-packages\\pandas\\indexes\\base.py:1275: VisibleDeprecationWarning: boolean index did not match indexed array along dimension 0; dimension is 74 but corresponding boolean dimension is 73\n",
      "  result = getitem(key)\n"
     ]
    }
   ],
   "source": [
    "train = pd.read_csv(\"data/train.csv\",index_col = 0)\n",
    "test = pd.read_csv(\"data/test.csv\",index_col = 0)\n",
    "\n",
    "col_drop = list(pd.DataFrame(train.isnull().sum(),columns = ['missingVal'])\n",
    "                .query('missingVal>0')\n",
    "                .sort_values(by = 'missingVal',ascending = False)\n",
    "                .index[:4])\n",
    "## drop cols\n",
    "for col in col_drop:\n",
    "    train = train.drop(col, 1)\n",
    "    test = test.drop(col,1)\n",
    "    \n",
    "train = train.drop('Utilities', 1) ## no data variety in Utilities\n",
    "test = test.drop('Utilities', 1)\n",
    "train = train.drop('GarageYrBlt',1) ## 'GarageYrBlt' duplicate with YearBuilt\n",
    "test = test.drop('GarageYrBlt',1)\n",
    "print('Now we have %d features'%test.shape[1])\n",
    "\n",
    "\n",
    "test = false_na(test)\n",
    "train = false_na(train)\n",
    "\n",
    "df_dtypes = pd.DataFrame(train.dtypes,columns=['train_dtypes']).join(pd.DataFrame(test.dtypes,columns=['test_dtypes']))\n",
    "df_dtypes_diff = df_dtypes.ix[df_dtypes['train_dtypes'] != df_dtypes['test_dtypes']]\n",
    "\n",
    "for col in df_dtypes_diff.index[:6]:\n",
    "    train[col] = train[col].astype('float')\n",
    "train['GarageCars'] = train['GarageCars'].astype('float')\n",
    "test['GarageArea'] = test['GarageArea'].astype('float')\n",
    "train['GarageArea'] = train['GarageArea'].astype('float')\n",
    "\n",
    "# check\n",
    "df_dtypes0 = pd.DataFrame(train.dtypes,columns=['train_dtypes']).join(pd.DataFrame(test.dtypes,columns=['test_dtypes']))\n",
    "print(df_dtypes0.ix[df_dtypes0['train_dtypes'] != df_dtypes0['test_dtypes']])\n",
    "\n",
    "\n",
    "\n",
    "df_dtypes = pd.DataFrame(train.dtypes,columns = ['dtypes'])\n",
    "numeric_cols = df_dtypes[df_dtypes['dtypes']!='object'].index\n",
    "cate_cols = df_dtypes[df_dtypes['dtypes']=='object'].index\n",
    "\n",
    "for col in cate_cols:\n",
    "    le = preprocessing.LabelEncoder()\n",
    "    le.fit(train[col].append(test[col]))\n",
    "    train[col] = le.transform(train[col])\n",
    "    test[col] = le.transform(test[col])\n",
    "\n",
    "    \n",
    "train = check_dtype(train)\n",
    "test = check_dtype(test)\n",
    "\n",
    "selector = VarianceThreshold(0.8)\n",
    "train_reduced = pd.DataFrame(selector.fit_transform(train),columns = train.columns[selector.get_support()])\n",
    "test_reduced = pd.DataFrame(selector.fit_transform(test),columns = test.columns[selector.get_support()])\n",
    "\n",
    "\n",
    "print('Now we only have %d features' % len(test_reduced.columns))\n",
    "print(\"Features we remove are %s\" % train.columns[~selector.get_support()])"
   ]
  },
  {
   "cell_type": "code",
   "execution_count": null,
   "metadata": {
    "collapsed": true
   },
   "outputs": [
    {
     "name": "stderr",
     "output_type": "stream",
     "text": [
      "C:\\Users\\mnan\\Anaconda3\\lib\\site-packages\\sklearn\\model_selection\\_split.py:581: Warning: The least populated class in y has only 1 members, which is too few. The minimum number of groups for any class cannot be less than n_splits=3.\n",
      "  % (min_groups, self.n_splits)), Warning)\n",
      "C:\\Users\\mnan\\Anaconda3\\lib\\site-packages\\sklearn\\model_selection\\_split.py:581: Warning: The least populated class in y has only 1 members, which is too few. The minimum number of groups for any class cannot be less than n_splits=3.\n",
      "  % (min_groups, self.n_splits)), Warning)\n",
      "C:\\Users\\mnan\\Anaconda3\\lib\\site-packages\\sklearn\\model_selection\\_split.py:581: Warning: The least populated class in y has only 1 members, which is too few. The minimum number of groups for any class cannot be less than n_splits=3.\n",
      "  % (min_groups, self.n_splits)), Warning)\n",
      "C:\\Users\\mnan\\Anaconda3\\lib\\site-packages\\sklearn\\model_selection\\_split.py:581: Warning: The least populated class in y has only 1 members, which is too few. The minimum number of groups for any class cannot be less than n_splits=3.\n",
      "  % (min_groups, self.n_splits)), Warning)\n",
      "C:\\Users\\mnan\\Anaconda3\\lib\\site-packages\\sklearn\\model_selection\\_split.py:581: Warning: The least populated class in y has only 1 members, which is too few. The minimum number of groups for any class cannot be less than n_splits=3.\n",
      "  % (min_groups, self.n_splits)), Warning)\n",
      "C:\\Users\\mnan\\Anaconda3\\lib\\site-packages\\sklearn\\model_selection\\_split.py:581: Warning: The least populated class in y has only 1 members, which is too few. The minimum number of groups for any class cannot be less than n_splits=3.\n",
      "  % (min_groups, self.n_splits)), Warning)\n",
      "C:\\Users\\mnan\\Anaconda3\\lib\\site-packages\\sklearn\\model_selection\\_split.py:581: Warning: The least populated class in y has only 1 members, which is too few. The minimum number of groups for any class cannot be less than n_splits=3.\n",
      "  % (min_groups, self.n_splits)), Warning)\n",
      "C:\\Users\\mnan\\Anaconda3\\lib\\site-packages\\sklearn\\model_selection\\_split.py:581: Warning: The least populated class in y has only 1 members, which is too few. The minimum number of groups for any class cannot be less than n_splits=3.\n",
      "  % (min_groups, self.n_splits)), Warning)\n",
      "C:\\Users\\mnan\\Anaconda3\\lib\\site-packages\\sklearn\\model_selection\\_split.py:581: Warning: The least populated class in y has only 1 members, which is too few. The minimum number of groups for any class cannot be less than n_splits=3.\n",
      "  % (min_groups, self.n_splits)), Warning)\n",
      "C:\\Users\\mnan\\Anaconda3\\lib\\site-packages\\sklearn\\model_selection\\_split.py:581: Warning: The least populated class in y has only 1 members, which is too few. The minimum number of groups for any class cannot be less than n_splits=3.\n",
      "  % (min_groups, self.n_splits)), Warning)\n",
      "C:\\Users\\mnan\\Anaconda3\\lib\\site-packages\\sklearn\\model_selection\\_split.py:581: Warning: The least populated class in y has only 1 members, which is too few. The minimum number of groups for any class cannot be less than n_splits=3.\n",
      "  % (min_groups, self.n_splits)), Warning)\n",
      "C:\\Users\\mnan\\Anaconda3\\lib\\site-packages\\sklearn\\model_selection\\_split.py:581: Warning: The least populated class in y has only 1 members, which is too few. The minimum number of groups for any class cannot be less than n_splits=3.\n",
      "  % (min_groups, self.n_splits)), Warning)\n",
      "C:\\Users\\mnan\\Anaconda3\\lib\\site-packages\\sklearn\\model_selection\\_split.py:581: Warning: The least populated class in y has only 1 members, which is too few. The minimum number of groups for any class cannot be less than n_splits=3.\n",
      "  % (min_groups, self.n_splits)), Warning)\n",
      "C:\\Users\\mnan\\Anaconda3\\lib\\site-packages\\sklearn\\model_selection\\_split.py:581: Warning: The least populated class in y has only 1 members, which is too few. The minimum number of groups for any class cannot be less than n_splits=3.\n",
      "  % (min_groups, self.n_splits)), Warning)\n",
      "C:\\Users\\mnan\\Anaconda3\\lib\\site-packages\\sklearn\\model_selection\\_split.py:581: Warning: The least populated class in y has only 1 members, which is too few. The minimum number of groups for any class cannot be less than n_splits=3.\n",
      "  % (min_groups, self.n_splits)), Warning)\n",
      "C:\\Users\\mnan\\Anaconda3\\lib\\site-packages\\sklearn\\model_selection\\_split.py:581: Warning: The least populated class in y has only 1 members, which is too few. The minimum number of groups for any class cannot be less than n_splits=3.\n",
      "  % (min_groups, self.n_splits)), Warning)\n",
      "C:\\Users\\mnan\\Anaconda3\\lib\\site-packages\\sklearn\\model_selection\\_split.py:581: Warning: The least populated class in y has only 1 members, which is too few. The minimum number of groups for any class cannot be less than n_splits=3.\n",
      "  % (min_groups, self.n_splits)), Warning)\n",
      "C:\\Users\\mnan\\Anaconda3\\lib\\site-packages\\sklearn\\model_selection\\_split.py:581: Warning: The least populated class in y has only 1 members, which is too few. The minimum number of groups for any class cannot be less than n_splits=3.\n",
      "  % (min_groups, self.n_splits)), Warning)\n",
      "C:\\Users\\mnan\\Anaconda3\\lib\\site-packages\\sklearn\\model_selection\\_split.py:581: Warning: The least populated class in y has only 1 members, which is too few. The minimum number of groups for any class cannot be less than n_splits=3.\n",
      "  % (min_groups, self.n_splits)), Warning)\n",
      "C:\\Users\\mnan\\Anaconda3\\lib\\site-packages\\sklearn\\model_selection\\_split.py:581: Warning: The least populated class in y has only 1 members, which is too few. The minimum number of groups for any class cannot be less than n_splits=3.\n",
      "  % (min_groups, self.n_splits)), Warning)\n",
      "C:\\Users\\mnan\\Anaconda3\\lib\\site-packages\\sklearn\\model_selection\\_split.py:581: Warning: The least populated class in y has only 1 members, which is too few. The minimum number of groups for any class cannot be less than n_splits=3.\n",
      "  % (min_groups, self.n_splits)), Warning)\n",
      "C:\\Users\\mnan\\Anaconda3\\lib\\site-packages\\sklearn\\model_selection\\_split.py:581: Warning: The least populated class in y has only 1 members, which is too few. The minimum number of groups for any class cannot be less than n_splits=3.\n",
      "  % (min_groups, self.n_splits)), Warning)\n",
      "C:\\Users\\mnan\\Anaconda3\\lib\\site-packages\\sklearn\\model_selection\\_split.py:581: Warning: The least populated class in y has only 1 members, which is too few. The minimum number of groups for any class cannot be less than n_splits=3.\n",
      "  % (min_groups, self.n_splits)), Warning)\n",
      "C:\\Users\\mnan\\Anaconda3\\lib\\site-packages\\sklearn\\model_selection\\_split.py:581: Warning: The least populated class in y has only 1 members, which is too few. The minimum number of groups for any class cannot be less than n_splits=3.\n",
      "  % (min_groups, self.n_splits)), Warning)\n",
      "C:\\Users\\mnan\\Anaconda3\\lib\\site-packages\\sklearn\\model_selection\\_split.py:581: Warning: The least populated class in y has only 1 members, which is too few. The minimum number of groups for any class cannot be less than n_splits=3.\n",
      "  % (min_groups, self.n_splits)), Warning)\n",
      "C:\\Users\\mnan\\Anaconda3\\lib\\site-packages\\sklearn\\model_selection\\_split.py:581: Warning: The least populated class in y has only 1 members, which is too few. The minimum number of groups for any class cannot be less than n_splits=3.\n",
      "  % (min_groups, self.n_splits)), Warning)\n",
      "C:\\Users\\mnan\\Anaconda3\\lib\\site-packages\\sklearn\\model_selection\\_split.py:581: Warning: The least populated class in y has only 1 members, which is too few. The minimum number of groups for any class cannot be less than n_splits=3.\n",
      "  % (min_groups, self.n_splits)), Warning)\n",
      "C:\\Users\\mnan\\Anaconda3\\lib\\site-packages\\sklearn\\model_selection\\_split.py:581: Warning: The least populated class in y has only 1 members, which is too few. The minimum number of groups for any class cannot be less than n_splits=3.\n",
      "  % (min_groups, self.n_splits)), Warning)\n",
      "C:\\Users\\mnan\\Anaconda3\\lib\\site-packages\\sklearn\\model_selection\\_split.py:581: Warning: The least populated class in y has only 1 members, which is too few. The minimum number of groups for any class cannot be less than n_splits=3.\n",
      "  % (min_groups, self.n_splits)), Warning)\n",
      "C:\\Users\\mnan\\Anaconda3\\lib\\site-packages\\sklearn\\model_selection\\_split.py:581: Warning: The least populated class in y has only 1 members, which is too few. The minimum number of groups for any class cannot be less than n_splits=3.\n",
      "  % (min_groups, self.n_splits)), Warning)\n",
      "C:\\Users\\mnan\\Anaconda3\\lib\\site-packages\\sklearn\\model_selection\\_split.py:581: Warning: The least populated class in y has only 1 members, which is too few. The minimum number of groups for any class cannot be less than n_splits=3.\n",
      "  % (min_groups, self.n_splits)), Warning)\n",
      "C:\\Users\\mnan\\Anaconda3\\lib\\site-packages\\sklearn\\model_selection\\_split.py:581: Warning: The least populated class in y has only 1 members, which is too few. The minimum number of groups for any class cannot be less than n_splits=3.\n",
      "  % (min_groups, self.n_splits)), Warning)\n",
      "C:\\Users\\mnan\\Anaconda3\\lib\\site-packages\\sklearn\\model_selection\\_split.py:581: Warning: The least populated class in y has only 1 members, which is too few. The minimum number of groups for any class cannot be less than n_splits=3.\n",
      "  % (min_groups, self.n_splits)), Warning)\n",
      "C:\\Users\\mnan\\Anaconda3\\lib\\site-packages\\sklearn\\model_selection\\_split.py:581: Warning: The least populated class in y has only 1 members, which is too few. The minimum number of groups for any class cannot be less than n_splits=3.\n",
      "  % (min_groups, self.n_splits)), Warning)\n"
     ]
    }
   ],
   "source": [
    "X = train_reduced.ix[:,:-1]\n",
    "y = train_reduced.ix[:,-1]\n",
    "forest = RandomForestClassifier(n_estimators = 100,max_features = 2,max_depth = None)\n",
    "cv = ShuffleSplit(X.shape[0],test_size=0.2)\n",
    "scores_RF_new = cross_val_score(forest,X,y,cv=cv,scoring = rmse_cv) "
   ]
  },
  {
   "cell_type": "code",
   "execution_count": null,
   "metadata": {
    "collapsed": true
   },
   "outputs": [],
   "source": []
  }
 ],
 "metadata": {
  "kernelspec": {
   "display_name": "Python [default]",
   "language": "python",
   "name": "python3"
  },
  "language_info": {
   "codemirror_mode": {
    "name": "ipython",
    "version": 3
   },
   "file_extension": ".py",
   "mimetype": "text/x-python",
   "name": "python",
   "nbconvert_exporter": "python",
   "pygments_lexer": "ipython3",
   "version": "3.5.2"
  }
 },
 "nbformat": 4,
 "nbformat_minor": 1
}
