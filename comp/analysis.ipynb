{
 "cells": [
  {
   "cell_type": "code",
   "execution_count": 1,
   "metadata": {
    "nbpresent": {
     "id": "228e3fb5-b96f-4004-8004-14809b21e512"
    }
   },
   "outputs": [
    {
     "name": "stdout",
     "output_type": "stream",
     "text": [
      "C:\\Users\\Miya\\Desktop\\comp\\txt\n"
     ]
    }
   ],
   "source": [
    "cd txt"
   ]
  },
  {
   "cell_type": "code",
   "execution_count": 1,
   "metadata": {
    "collapsed": true,
    "nbpresent": {
     "id": "f8376cae-1a7d-4d19-b43f-160fef2ab8bf"
    }
   },
   "outputs": [],
   "source": [
    "from bs4 import BeautifulSoup\n",
    "import glob\n",
    "import seaborn as sns\n",
    "import matplotlib.pyplot as plt\n",
    "import plotly.plotly as py\n",
    "import plotly.graph_objs as go \n",
    "%matplotlib inline\n",
    "sns.set_style(\"whitegrid\")"
   ]
  },
  {
   "cell_type": "code",
   "execution_count": 3,
   "metadata": {
    "nbpresent": {
     "id": "ea633083-126b-422f-9f58-2dddaf873168"
    }
   },
   "outputs": [
    {
     "data": {
      "text/plain": [
       "41132"
      ]
     },
     "execution_count": 3,
     "metadata": {},
     "output_type": "execute_result"
    }
   ],
   "source": [
    "txtfile = glob.glob(\"*.txt\")\n",
    "len(txtfile)"
   ]
  },
  {
   "cell_type": "code",
   "execution_count": 37,
   "metadata": {
    "nbpresent": {
     "id": "8a177382-46ef-4896-926a-804d535ab7aa"
    }
   },
   "outputs": [
    {
     "data": {
      "text/plain": [
       "41132"
      ]
     },
     "execution_count": 37,
     "metadata": {},
     "output_type": "execute_result"
    }
   ],
   "source": [
    "len(set(txtfile))"
   ]
  },
  {
   "cell_type": "code",
   "execution_count": 3,
   "metadata": {
    "nbpresent": {
     "id": "d5183c1f-c8c4-4261-87fc-2774891e64a4"
    }
   },
   "outputs": [
    {
     "name": "stdout",
     "output_type": "stream",
     "text": [
      "C:\\Users\\Miya\\Desktop\\comp\n"
     ]
    }
   ],
   "source": [
    "cd .."
   ]
  },
  {
   "cell_type": "code",
   "execution_count": 4,
   "metadata": {
    "nbpresent": {
     "id": "5bc86efe-94e1-4bde-baf3-4c38b1b726b5"
    }
   },
   "outputs": [
    {
     "name": "stdout",
     "output_type": "stream",
     "text": [
      " Volume in drive C is OS\n",
      " Volume Serial Number is C803-CD91\n",
      "\n",
      " Directory of C:\\Users\\Miya\\Desktop\\comp\n",
      "\n",
      "07/25/2017  11:43 AM    <DIR>          .\n",
      "07/25/2017  11:43 AM    <DIR>          ..\n",
      "07/24/2017  11:35 AM    <DIR>          .ipynb_checkpoints\n",
      "07/23/2017  07:34 AM    <DIR>          TXT\n",
      "07/25/2017  11:43 AM           135,058 Untitled.ipynb\n",
      "07/23/2017  05:01 PM         7,123,456 xwml.xls\n",
      "07/24/2017  10:50 AM         4,374,212 ????.xlsx\n",
      "               3 File(s)     11,632,726 bytes\n",
      "               4 Dir(s)  58,167,869,440 bytes free\n"
     ]
    }
   ],
   "source": [
    "ls"
   ]
  },
  {
   "cell_type": "code",
   "execution_count": 2,
   "metadata": {
    "collapsed": true,
    "nbpresent": {
     "id": "8d0aacca-7b3c-42e2-9290-cfdded0d510b"
    }
   },
   "outputs": [],
   "source": [
    "import pandas as pd\n",
    "xls = pd.ExcelFile(\"xwml.xls\",parse_dates = True)\n",
    "info_df = xls.parse(0)\n",
    "info_df.columns = ['id','title','time','source','foundation']\n",
    "info_df['year'] = list(map(lambda x:x.year,info_df['time']))"
   ]
  },
  {
   "cell_type": "code",
   "execution_count": 12,
   "metadata": {
    "nbpresent": {
     "id": "3755ca4f-301a-4e88-a212-9685eb49e19e"
    }
   },
   "outputs": [
    {
     "data": {
      "text/html": [
       "<div>\n",
       "<table border=\"1\" class=\"dataframe\">\n",
       "  <thead>\n",
       "    <tr style=\"text-align: right;\">\n",
       "      <th></th>\n",
       "      <th>id</th>\n",
       "      <th>title</th>\n",
       "      <th>time</th>\n",
       "      <th>source</th>\n",
       "      <th>foundation</th>\n",
       "      <th>year</th>\n",
       "    </tr>\n",
       "  </thead>\n",
       "  <tbody>\n",
       "    <tr>\n",
       "      <th>0</th>\n",
       "      <td>403834619533</td>\n",
       "      <td>致中山大学受助毕业学子的公开信</td>\n",
       "      <td>2010-06-12</td>\n",
       "      <td>广东省中山大学教育发展基金会</td>\n",
       "      <td>广东省中山大学教育发展基金会</td>\n",
       "      <td>2010</td>\n",
       "    </tr>\n",
       "    <tr>\n",
       "      <th>1</th>\n",
       "      <td>348015367040</td>\n",
       "      <td>两笔紧急援助金发放</td>\n",
       "      <td>2010-06-21</td>\n",
       "      <td>广东省中山大学教育发展基金会</td>\n",
       "      <td>广东省中山大学教育发展基金会</td>\n",
       "      <td>2010</td>\n",
       "    </tr>\n",
       "    <tr>\n",
       "      <th>2</th>\n",
       "      <td>610435567915</td>\n",
       "      <td>广东省中山大学校学生处、教育发展基金会代表拜访奖助学金捐赠单位</td>\n",
       "      <td>2010-06-21</td>\n",
       "      <td>广东省中山大学教育发展基金会</td>\n",
       "      <td>广东省中山大学教育发展基金会</td>\n",
       "      <td>2010</td>\n",
       "    </tr>\n",
       "    <tr>\n",
       "      <th>3</th>\n",
       "      <td>943575066142</td>\n",
       "      <td>我会成为首批通过民政部2009年年度检查的基金会之一</td>\n",
       "      <td>2010-05-04</td>\n",
       "      <td>中国古生物化石保护基金会</td>\n",
       "      <td>中国农业大学教育基金会</td>\n",
       "      <td>2010</td>\n",
       "    </tr>\n",
       "    <tr>\n",
       "      <th>4</th>\n",
       "      <td>370101904748</td>\n",
       "      <td>南都公益基金会通过2009年年度检查</td>\n",
       "      <td>2010-05-07</td>\n",
       "      <td>南都公益基金会</td>\n",
       "      <td>中国农业大学教育基金会</td>\n",
       "      <td>2010</td>\n",
       "    </tr>\n",
       "  </tbody>\n",
       "</table>\n",
       "</div>"
      ],
      "text/plain": [
       "             id                            title       time          source  \\\n",
       "0  403834619533                  致中山大学受助毕业学子的公开信 2010-06-12  广东省中山大学教育发展基金会   \n",
       "1  348015367040                        两笔紧急援助金发放 2010-06-21  广东省中山大学教育发展基金会   \n",
       "2  610435567915  广东省中山大学校学生处、教育发展基金会代表拜访奖助学金捐赠单位 2010-06-21  广东省中山大学教育发展基金会   \n",
       "3  943575066142       我会成为首批通过民政部2009年年度检查的基金会之一 2010-05-04    中国古生物化石保护基金会   \n",
       "4  370101904748               南都公益基金会通过2009年年度检查 2010-05-07         南都公益基金会   \n",
       "\n",
       "       foundation  year  \n",
       "0  广东省中山大学教育发展基金会  2010  \n",
       "1  广东省中山大学教育发展基金会  2010  \n",
       "2  广东省中山大学教育发展基金会  2010  \n",
       "3     中国农业大学教育基金会  2010  \n",
       "4     中国农业大学教育基金会  2010  "
      ]
     },
     "execution_count": 12,
     "metadata": {},
     "output_type": "execute_result"
    }
   ],
   "source": [
    "info_df.head()"
   ]
  },
  {
   "cell_type": "code",
   "execution_count": 11,
   "metadata": {
    "nbpresent": {
     "id": "54cfac97-495e-45ee-a740-f77a35812105"
    }
   },
   "outputs": [
    {
     "data": {
      "text/plain": [
       "479"
      ]
     },
     "execution_count": 11,
     "metadata": {},
     "output_type": "execute_result"
    }
   ],
   "source": [
    "len(info_df.foundation.unique())"
   ]
  },
  {
   "cell_type": "code",
   "execution_count": 77,
   "metadata": {
    "nbpresent": {
     "id": "c9025240-efdd-43bb-9a17-d7b0304381b9"
    }
   },
   "outputs": [
    {
     "data": {
      "text/plain": [
       "2493"
      ]
     },
     "execution_count": 77,
     "metadata": {},
     "output_type": "execute_result"
    }
   ],
   "source": [
    "len(info_df.source.unique())"
   ]
  },
  {
   "cell_type": "code",
   "execution_count": 55,
   "metadata": {
    "nbpresent": {
     "id": "e845662f-f5d4-4cbc-95f6-11980c7a5eba"
    }
   },
   "outputs": [
    {
     "data": {
      "text/plain": [
       "41207"
      ]
     },
     "execution_count": 55,
     "metadata": {},
     "output_type": "execute_result"
    }
   ],
   "source": [
    "len(info_df.id.unique())"
   ]
  },
  {
   "cell_type": "code",
   "execution_count": 9,
   "metadata": {
    "collapsed": true
   },
   "outputs": [],
   "source": [
    "import plotly.plotly as py\n",
    "from plotly.graph_objs import *\n",
    "from ipywidgets import interact, interactive, fixed, interact_manual\n",
    "from IPython.display import display\n",
    "from ipywidgets import widgets\n",
    "\n",
    "def fig1(year):\n",
    "    sliced_data = info_df[info_df['year'] == int(year)]\n",
    "    df = pd.DataFrame(sliced_data.groupby('foundation')['year'].count().sort_values(ascending = False)[:10])\n",
    "    df.columns = ['新闻数目']\n",
    "    print('%s年 基金会新闻数目排名：'%year)\n",
    "    display(df)"
   ]
  },
  {
   "cell_type": "code",
   "execution_count": 10,
   "metadata": {
    "nbpresent": {
     "id": "512c9a00-31ea-4963-a0e8-2c41865a5a42"
    },
    "slideshow": {
     "slide_type": "subslide"
    }
   },
   "outputs": [
    {
     "name": "stdout",
     "output_type": "stream",
     "text": [
      "2017年 基金会新闻数目排名：\n"
     ]
    },
    {
     "data": {
      "text/html": [
       "<div>\n",
       "<table border=\"1\" class=\"dataframe\">\n",
       "  <thead>\n",
       "    <tr style=\"text-align: right;\">\n",
       "      <th></th>\n",
       "      <th>新闻数目</th>\n",
       "    </tr>\n",
       "    <tr>\n",
       "      <th>foundation</th>\n",
       "      <th></th>\n",
       "    </tr>\n",
       "  </thead>\n",
       "  <tbody>\n",
       "    <tr>\n",
       "      <th>中国扶贫基金会</th>\n",
       "      <td>2256</td>\n",
       "    </tr>\n",
       "    <tr>\n",
       "      <th>中国妇女发展基金会</th>\n",
       "      <td>1308</td>\n",
       "    </tr>\n",
       "    <tr>\n",
       "      <th>中国青少年发展基金会</th>\n",
       "      <td>1142</td>\n",
       "    </tr>\n",
       "    <tr>\n",
       "      <th>中华少年儿童慈善救助基金会</th>\n",
       "      <td>913</td>\n",
       "    </tr>\n",
       "    <tr>\n",
       "      <th>中国儿童少年基金会</th>\n",
       "      <td>701</td>\n",
       "    </tr>\n",
       "    <tr>\n",
       "      <th>中国红十字基金会</th>\n",
       "      <td>628</td>\n",
       "    </tr>\n",
       "    <tr>\n",
       "      <th>腾讯公益慈善基金会</th>\n",
       "      <td>415</td>\n",
       "    </tr>\n",
       "    <tr>\n",
       "      <th>中国华侨公益基金会</th>\n",
       "      <td>408</td>\n",
       "    </tr>\n",
       "    <tr>\n",
       "      <th>中国社会福利基金会</th>\n",
       "      <td>320</td>\n",
       "    </tr>\n",
       "    <tr>\n",
       "      <th>中国绿化基金会</th>\n",
       "      <td>316</td>\n",
       "    </tr>\n",
       "  </tbody>\n",
       "</table>\n",
       "</div>"
      ],
      "text/plain": [
       "               新闻数目\n",
       "foundation         \n",
       "中国扶贫基金会        2256\n",
       "中国妇女发展基金会      1308\n",
       "中国青少年发展基金会     1142\n",
       "中华少年儿童慈善救助基金会   913\n",
       "中国儿童少年基金会       701\n",
       "中国红十字基金会        628\n",
       "腾讯公益慈善基金会       415\n",
       "中国华侨公益基金会       408\n",
       "中国社会福利基金会       320\n",
       "中国绿化基金会         316"
      ]
     },
     "metadata": {},
     "output_type": "display_data"
    },
    {
     "data": {
      "text/plain": [
       "<function __main__.fig1>"
      ]
     },
     "execution_count": 10,
     "metadata": {},
     "output_type": "execute_result"
    }
   ],
   "source": [
    "interact(fig1,year = widgets.Dropdown(\n",
    "    options=sorted(info_df['year'].unique()),\n",
    "    description='year:',\n",
    "    value = 2017,\n",
    "    disabled=False))"
   ]
  },
  {
   "cell_type": "code",
   "execution_count": 5,
   "metadata": {},
   "outputs": [
    {
     "data": {
      "text/plain": [
       "<function __main__.fig2>"
      ]
     },
     "execution_count": 5,
     "metadata": {},
     "output_type": "execute_result"
    },
    {
     "data": {
      "image/png": "[encoded data removed]",
      "text/plain": [
       "<matplotlib.figure.Figure at 0xc989839588>"
      ]
     },
     "metadata": {},
     "output_type": "display_data"
    }
   ],
   "source": [
    "list_found = info_df['foundation'].unique()\n",
    "def fig2(found):\n",
    "    sliced_data = info_df[info_df['foundation'] == found]\n",
    "    sliced_data.groupby('time')['year'].count().plot(style = '.',figsize = (6,3))\n",
    "    plt.ylabel('News Count')\n",
    "    plt.xlabel('')\n",
    "interact(fig2,found = widgets.Dropdown(\n",
    "    options=sorted(list(list_found)),\n",
    "    description='基金会：',\n",
    "    value = '中国扶贫基金会',\n",
    "    disabled=False))"
   ]
  },
  {
   "cell_type": "code",
   "execution_count": 7,
   "metadata": {},
   "outputs": [
    {
     "ename": "ImportError",
     "evalue": "No module named 'ipywidgets.embed'",
     "output_type": "error",
     "traceback": [
      "\u001b[0;31m---------------------------------------------------------------------------\u001b[0m",
      "\u001b[0;31mImportError\u001b[0m                               Traceback (most recent call last)",
      "\u001b[0;32m<ipython-input-7-5181453d99eb>\u001b[0m in \u001b[0;36m<module>\u001b[0;34m()\u001b[0m\n\u001b[1;32m      1\u001b[0m \u001b[1;32mimport\u001b[0m \u001b[0mipywidgets\u001b[0m\u001b[1;33m\u001b[0m\u001b[0m\n\u001b[0;32m----> 2\u001b[0;31m \u001b[1;32mfrom\u001b[0m \u001b[0mipywidgets\u001b[0m\u001b[1;33m.\u001b[0m\u001b[0membed\u001b[0m \u001b[1;32mimport\u001b[0m \u001b[0membed_snippet\u001b[0m\u001b[1;33m\u001b[0m\u001b[0m\n\u001b[0m\u001b[1;32m      3\u001b[0m \u001b[1;33m\u001b[0m\u001b[0m\n\u001b[1;32m      4\u001b[0m s1, s2 = interact(fig2,found = widgets.Dropdown(\n\u001b[1;32m      5\u001b[0m     \u001b[0moptions\u001b[0m\u001b[1;33m=\u001b[0m\u001b[0msorted\u001b[0m\u001b[1;33m(\u001b[0m\u001b[0mlist\u001b[0m\u001b[1;33m(\u001b[0m\u001b[0mlist_found\u001b[0m\u001b[1;33m)\u001b[0m\u001b[1;33m)\u001b[0m\u001b[1;33m,\u001b[0m\u001b[1;33m\u001b[0m\u001b[0m\n",
      "\u001b[0;31mImportError\u001b[0m: No module named 'ipywidgets.embed'"
     ]
    }
   ],
   "source": [
    "import ipywidgets\n",
    "from ipywidgets.embed import embed_snippet\n",
    "\n",
    "s1, s2 = interact(fig2,found = widgets.Dropdown(\n",
    "    options=sorted(list(list_found)),\n",
    "    description='基金会：',\n",
    "    value = '中国扶贫基金会',\n",
    "    disabled=False))\n",
    "print(embed_snippet(views=[s1, s2]))"
   ]
  },
  {
   "cell_type": "code",
   "execution_count": 119,
   "metadata": {
    "collapsed": true
   },
   "outputs": [],
   "source": [
    "import numpy as np\n",
    "import matplotlib.pyplot as plt\n",
    "\n",
    "def plot(amplitude, color):\n",
    "    fig, ax = plt.subplots(figsize=(4, 3),\n",
    "                           subplot_kw={'axisbg':'#EEEEEE',\n",
    "                                       'axisbelow':True})\n",
    "    ax.grid(color='w', linewidth=2, linestyle='solid')\n",
    "    x = np.linspace(0, 10, 1000)\n",
    "    ax.plot(x, amplitude * np.sin(x), color=color,\n",
    "            lw=5, alpha=0.4)\n",
    "    ax.set_xlim(0, 10)\n",
    "    ax.set_ylim(-1.1, 1.1)\n",
    "    return fig"
   ]
  },
  {
   "cell_type": "code",
   "execution_count": 109,
   "metadata": {
    "collapsed": true
   },
   "outputs": [],
   "source": [
    "from bokeh.io import output_file, show\n",
    "from bokeh.layouts import widgetbox\n",
    "from bokeh.models.widgets import TextInput,Dropdown\n",
    "def my_text_input_handler(attr, old, new):\n",
    "    print(\"Previous label: \" + old)\n",
    "    print(\"Updated label: \" + new)\n",
    "\n",
    "text_input = TextInput(value=\"default\", title=\"Label:\")\n",
    "text_input.on_change(\"value\", my_text_input_handler)\n",
    "show(text_input)"
   ]
  },
  {
   "cell_type": "code",
   "execution_count": 118,
   "metadata": {
    "collapsed": true
   },
   "outputs": [],
   "source": [
    "def fig2(attr,old,new):\n",
    "    sliced_data = info_df[info_df['foundation'] == new]\n",
    "    sliced_data.groupby('time')['year'].count().plot(style = '.',figsize = (6,3))\n",
    "    plt.ylabel('News Count')\n",
    "    plt.xlabel('')\n",
    "    \n",
    "found_select = TextInput(value = '上海交通大学教育发展基金会')\n",
    "found_select.on_change(\"value\",fig2)\n",
    "show(found_select)"
   ]
  },
  {
   "cell_type": "code",
   "execution_count": null,
   "metadata": {
    "collapsed": true
   },
   "outputs": [],
   "source": [
    "    data = [go.Bar(x=sliced_data.groupby('foundation')['year'].count().sort_values(ascending = False)[:10].index,\n",
    "        y=sliced_data.groupby('foundation')['year'].count().sort_values(ascending = False)[:10].values\n",
    "    )]\n",
    "    layout = Layout(title=\"Average Earnings for Graduates\",\n",
    "                xaxis=dict(title='School'),\n",
    "                yaxis=dict(title='Salary (in thousands)'))\n",
    "    fig = Figure(data=data, layout=layout)\n",
    "    py.iplot(fig)"
   ]
  },
  {
   "cell_type": "code",
   "execution_count": 175,
   "metadata": {
    "collapsed": true,
    "nbpresent": {
     "id": "827776fe-a21f-4253-963b-bd1c3fcf1785"
    }
   },
   "outputs": [],
   "source": [
    "graph = GraphWidget(url)"
   ]
  },
  {
   "cell_type": "code",
   "execution_count": 5,
   "metadata": {
    "slideshow": {
     "slide_type": "slide"
    }
   },
   "outputs": [
    {
     "name": "stdout",
     "output_type": "stream",
     "text": [
      "Hello World\n"
     ]
    }
   ],
   "source": [
    "from ipywidgets import interact, interactive, fixed, interact_manual\n",
    "@interact\n",
    "def greeting(text=\"World\"):\n",
    "    print(\"Hello {}\".format(text))"
   ]
  },
  {
   "cell_type": "code",
   "execution_count": 61,
   "metadata": {},
   "outputs": [
    {
     "data": {
      "text/plain": [
       "(True, 1.0)"
      ]
     },
     "metadata": {},
     "output_type": "display_data"
    }
   ],
   "source": [
    "@interact(x=True, y=1.0)\n",
    "def g(x, y):\n",
    "    return (x, y)"
   ]
  },
  {
   "cell_type": "code",
   "execution_count": 46,
   "metadata": {},
   "outputs": [
    {
     "data": {
      "text/plain": [
       "'oranges'"
      ]
     },
     "metadata": {},
     "output_type": "display_data"
    }
   ],
   "source": [
    "interact(f, x=['apples','oranges'])"
   ]
  },
  {
   "cell_type": "code",
   "execution_count": 54,
   "metadata": {},
   "outputs": [
    {
     "name": "stdout",
     "output_type": "stream",
     "text": [
      "4.6 5.0\n"
     ]
    }
   ],
   "source": [
    "\n",
    "from ipywidgets import FloatSlider\n",
    "x_widget = FloatSlider(min=0.0, max=10.0, step=0.05)\n",
    "y_widget = FloatSlider(min=0.5, max=10.0, step=0.05, value=5.0)\n",
    "\n",
    "def update_x_range(*args):\n",
    "    x_widget.max = 2.0 * y_widget.value\n",
    "y_widget.observe(update_x_range, 'value')\n",
    "\n",
    "def printer(x, y):\n",
    "    print(x, y)\n",
    "interact(printer,x=x_widget, y=y_widget);"
   ]
  },
  {
   "cell_type": "code",
   "execution_count": 52,
   "metadata": {},
   "outputs": [
    {
     "ename": "NameError",
     "evalue": "name 'slow_function' is not defined",
     "output_type": "error",
     "traceback": [
      "\u001b[0;31m---------------------------------------------------------------------------\u001b[0m",
      "\u001b[0;31mNameError\u001b[0m                                 Traceback (most recent call last)",
      "\u001b[0;32m<ipython-input-52-6004a44b6cbd>\u001b[0m in \u001b[0;36m<module>\u001b[0;34m()\u001b[0m\n\u001b[0;32m----> 1\u001b[0;31m \u001b[0minteract_manual\u001b[0m\u001b[1;33m(\u001b[0m\u001b[0mslow_function\u001b[0m\u001b[1;33m,\u001b[0m\u001b[0mi\u001b[0m\u001b[1;33m=\u001b[0m\u001b[0mFloatSlider\u001b[0m\u001b[1;33m(\u001b[0m\u001b[0mmin\u001b[0m\u001b[1;33m=\u001b[0m\u001b[1;36m1e5\u001b[0m\u001b[1;33m,\u001b[0m \u001b[0mmax\u001b[0m\u001b[1;33m=\u001b[0m\u001b[1;36m1e7\u001b[0m\u001b[1;33m,\u001b[0m \u001b[0mstep\u001b[0m\u001b[1;33m=\u001b[0m\u001b[1;36m1e5\u001b[0m\u001b[1;33m)\u001b[0m\u001b[1;33m)\u001b[0m\u001b[1;33m;\u001b[0m\u001b[1;33m\u001b[0m\u001b[0m\n\u001b[0m",
      "\u001b[0;31mNameError\u001b[0m: name 'slow_function' is not defined"
     ]
    }
   ],
   "source": [
    "interact_manual(slow_function,i=FloatSlider(min=1e5, max=1e7, step=1e5));"
   ]
  },
  {
   "cell_type": "code",
   "execution_count": 179,
   "metadata": {
    "collapsed": true,
    "nbpresent": {
     "id": "83936ab1-920e-47d7-806d-2a60112922aa"
    }
   },
   "outputs": [],
   "source": [
    "import pandas as pd\n",
    "import plotly.plotly as py\n",
    "\n",
    " \n",
    "from IPython.display import display\n",
    "from plotly.graph_objs import *\n",
    "from plotly.widgets import GraphWidget\n",
    "\n",
    "# we will define a function that will handle the input from the dropdown widget\n",
    "def update_plot(change):\n",
    "    selected = info_df['year'] == w.value\n",
    "    temp = info_df[selected]\n",
    "    data = temp.groupby('foundation')['year'].count().sort_values(ascending = False)[:10]\n",
    "    graph = GraphWidget(url)\n",
    "    graph.restyle({\n",
    "                x:[data.index],\n",
    "                y:[data.values]})\n",
    "    graph.relayout({'title': 'Number of {} Complaints in New York by Borough'})\n",
    "\n",
    "w = widgets.Dropdown(\n",
    "    options= list(info_df['year'].unique()),\n",
    "    description='year')\n",
    "\n",
    "# observe will set a listener for activity on our dropdown menu\n",
    "w.observe(update_plot, names='my plot') \n",
    "\n",
    "display(w)\n",
    "display(graph) "
   ]
  },
  {
   "cell_type": "code",
   "execution_count": 178,
   "metadata": {
    "nbpresent": {
     "id": "cb60980a-00b6-4597-9c85-06725b2c57b9"
    }
   },
   "outputs": [
    {
     "data": {
      "text/plain": [
       "2013"
      ]
     },
     "execution_count": 178,
     "metadata": {},
     "output_type": "execute_result"
    }
   ],
   "source": [
    "w.value"
   ]
  },
  {
   "cell_type": "code",
   "execution_count": 152,
   "metadata": {
    "collapsed": true,
    "nbpresent": {
     "id": "fa71dbc7-a528-4da8-857d-9b5faa5c1659"
    }
   },
   "outputs": [],
   "source": [
    "df = pd.read_csv('https://raw.githubusercontent.com/yankev/testing/master/datasets/nycflights.csv')\n",
    "df = df.drop(df.columns[[0]], axis=1) "
   ]
  },
  {
   "cell_type": "code",
   "execution_count": 153,
   "metadata": {
    "collapsed": true,
    "nbpresent": {
     "id": "dbf5cbe0-0e51-4ff2-a443-c3d03d9ae8d1"
    }
   },
   "outputs": [],
   "source": [
    "month = widgets.FloatSlider(\n",
    "    value=1.0,\n",
    "    min=1.0,\n",
    "    max=12.0,\n",
    "    step=1.0,\n",
    "    description='Month:',\n",
    "    continuous_update = False\n",
    ")\n",
    "\n",
    "use_date = widgets.Checkbox(\n",
    "    description='Date: ',\n",
    "    value=True,\n",
    ")\n",
    "\n",
    "container = widgets.HBox(children=[use_date, month] )\n",
    "\n",
    "textbox = widgets.Text(\n",
    "    description='Airline:   ',\n",
    "    value='Delta',\n",
    ")\n",
    "\n",
    "origin = widgets.Dropdown(\n",
    "    options=list(df['origin'].unique()),\n",
    "    value='LGA',\n",
    "    description='Origin Airport:',\n",
    ")\n",
    "\n",
    "\n",
    "### Assign an emptry graph widget with two traces\n",
    "\n",
    "g = GraphWidget('https://plot.ly/~miya/1192/')"
   ]
  },
  {
   "cell_type": "code",
   "execution_count": 154,
   "metadata": {
    "collapsed": true,
    "nbpresent": {
     "id": "3ab07ef7-5948-4d7d-b8d1-3d24704f7c9a"
    }
   },
   "outputs": [],
   "source": [
    "def validate():\n",
    "    # print \"validating\"\n",
    "    if origin.value in df['origin'].unique() and textbox.value in df['carrier'].unique():\n",
    "        return True\n",
    "    else:\n",
    "        return False\n",
    "\n",
    "def response(change):\n",
    "    if validate():\n",
    "        # print \"using date\"\n",
    "        if use_date.value:\n",
    "            filter_list = [i and j and k for i,j,k in \n",
    "                           zip(df['month'] == month.value, df['carrier'] == textbox.value, \n",
    "                               df['origin'] == origin.value)]\n",
    "            temp_df = df[filter_list]\n",
    "            x1 = temp_df['arr_delay']\n",
    "            x2 = temp_df['dep_delay']\n",
    "            g.restyle({'x': [x1], 'name': 'Arrival Delays', 'type': 'histogram', \n",
    "                       'opacity': 0.75}, indices=0) \n",
    "            g.restyle({'x': [x2], 'name': 'Departure Delays', 'type': 'histogram', \n",
    "                       'opacity': 0.75}, indices=1)\n",
    "            g.relayout({'barmode': 'overlay', 'xaxis': {'title': 'Delay in Minutes'},\n",
    "                        'yaxis': {'title': 'Number of Delays'}})\n",
    "            # print temp_df.head()\n",
    "            \n",
    "        else:\n",
    "            # print \"not using date\"\n",
    "            filter_list = [i and j for i,j in \n",
    "                           zip(df['carrier'] == 'DL', df['origin'] == origin.value)]\n",
    "            temp_df = df[filter_list]\n",
    "            x1 = temp_df['arr_delay']\n",
    "            x2 = temp_df['dep_delay']\n",
    "            g.restyle({'x': [x1], 'name': 'Arrival Delays', 'type': 'histogram', \n",
    "                       'opacity': 0.75}, indices=0) \n",
    "            g.restyle({'x': [x2], 'name': 'Departure Delays', 'type': 'histogram', \n",
    "                       'opacity': 0.75}, indices=1)\n",
    "            g.relayout({'barmode': 'overlay'})\n",
    "            # print temp_df.head()\n",
    "    \n",
    "\n",
    "origin.observe(response, names=\"value\")\n",
    "textbox.observe(response, names=\"value\")\n",
    "month.observe(response, names=\"value\")\n",
    "use_date.observe(response, names=\"value\")"
   ]
  },
  {
   "cell_type": "code",
   "execution_count": 155,
   "metadata": {
    "collapsed": true,
    "nbpresent": {
     "id": "650478f3-aa3a-450e-8947-5b0cd22ebcce"
    }
   },
   "outputs": [],
   "source": [
    "display(container)\n",
    "container2 = widgets.HBox([origin, textbox])\n",
    "display(container2)\n",
    "display(g)"
   ]
  },
  {
   "cell_type": "code",
   "execution_count": 145,
   "metadata": {
    "nbpresent": {
     "id": "9b0d883f-9cdd-47ae-ba20-103ac27f06b5"
    }
   },
   "outputs": [
    {
     "data": {
      "text/plain": [
       "<bound method HasTraits.observe of <plotly.widgets.graph_widget.GraphWidget object at 0x00000079FA9F1080>>"
      ]
     },
     "execution_count": 145,
     "metadata": {},
     "output_type": "execute_result"
    }
   ],
   "source": [
    "graph.observe"
   ]
  },
  {
   "cell_type": "code",
   "execution_count": 90,
   "metadata": {
    "nbpresent": {
     "id": "edc8858d-e274-4bd3-b875-c972aefcca8c"
    }
   },
   "outputs": [
    {
     "ename": "NameError",
     "evalue": "name 'web' is not defined",
     "output_type": "error",
     "traceback": [
      "\u001b[0;31m---------------------------------------------------------------------------\u001b[0m",
      "\u001b[0;31mNameError\u001b[0m                                 Traceback (most recent call last)",
      "\u001b[0;32m<ipython-input-90-4549b4a9e43d>\u001b[0m in \u001b[0;36m<module>\u001b[0;34m()\u001b[0m\n\u001b[1;32m      1\u001b[0m \u001b[1;32mfrom\u001b[0m \u001b[0mdatetime\u001b[0m \u001b[1;32mimport\u001b[0m \u001b[0mdatetime\u001b[0m\u001b[1;33m\u001b[0m\u001b[0m\n\u001b[1;32m      2\u001b[0m \u001b[1;33m\u001b[0m\u001b[0m\n\u001b[0;32m----> 3\u001b[0;31m df = web.DataReader(\"aapl\", 'yahoo',\n\u001b[0m\u001b[1;32m      4\u001b[0m                     \u001b[0mdatetime\u001b[0m\u001b[1;33m(\u001b[0m\u001b[1;36m2007\u001b[0m\u001b[1;33m,\u001b[0m \u001b[1;36m10\u001b[0m\u001b[1;33m,\u001b[0m \u001b[1;36m1\u001b[0m\u001b[1;33m)\u001b[0m\u001b[1;33m,\u001b[0m\u001b[1;33m\u001b[0m\u001b[0m\n\u001b[1;32m      5\u001b[0m                     datetime(2009, 4, 1))\n",
      "\u001b[0;31mNameError\u001b[0m: name 'web' is not defined"
     ]
    }
   ],
   "source": [
    "import plotly.plotly as py\n",
    "import plotly.graph_objs as go\n",
    "\n",
    "data = [go.Bar(\n",
    "            x=['giraffes', 'orangutans', 'monkeys'],\n",
    "            y=[20, 14, 23]\n",
    "    )]\n",
    "\n",
    "py.iplot(data, filename='basic-bar')"
   ]
  },
  {
   "cell_type": "code",
   "execution_count": 81,
   "metadata": {
    "nbpresent": {
     "id": "434f1f85-d968-42c5-8c4a-97d309401552"
    }
   },
   "outputs": [
    {
     "data": {
      "text/plain": [
       "<matplotlib.axes._subplots.AxesSubplot at 0x79f89919e8>"
      ]
     },
     "execution_count": 81,
     "metadata": {},
     "output_type": "execute_result"
    },
    {
     "data": {
      "image/png": "[encoded data removed]",
      "text/plain": [
       "<matplotlib.figure.Figure at 0x79f899ca58>"
      ]
     },
     "metadata": {},
     "output_type": "display_data"
    }
   ],
   "source": [
    "info_df[info_df['time']>'2017-01-01'].groupby('time').count()['id'].plot()"
   ]
  },
  {
   "cell_type": "code",
   "execution_count": 88,
   "metadata": {
    "collapsed": true,
    "nbpresent": {
     "id": "e81d355d-646a-4ba3-b1f5-82024fc2c9e9"
    }
   },
   "outputs": [
    {
     "data": {
      "text/plain": [
       "foundation\n",
       "中国扶贫基金会             2256\n",
       "中国妇女发展基金会           1308\n",
       "中国青少年发展基金会          1142\n",
       "中华少年儿童慈善救助基金会        913\n",
       "中国儿童少年基金会            701\n",
       "中国红十字基金会             628\n",
       "腾讯公益慈善基金会            415\n",
       "中国华侨公益基金会            408\n",
       "中国社会福利基金会            320\n",
       "中国绿化基金会              316\n",
       "中国教育发展基金会            293\n",
       "中国健康促进基金会            278\n",
       "中华思源工程扶贫基金会          277\n",
       "南都公益基金会              270\n",
       "中国宋庆龄基金会             224\n",
       "爱佑慈善基金会              216\n",
       "上海宋庆龄基金会             187\n",
       "中国残疾人福利基金会           186\n",
       "中华环境保护基金会            175\n",
       "中华社会救助基金会            172\n",
       "中国少年儿童文化艺术基金会        147\n",
       "爱德基金会                127\n",
       "中国光华科技基金会            121\n",
       "清华大学教育基金会            117\n",
       "江苏省儿童少年福利基金会         113\n",
       "友成企业家扶贫基金会           106\n",
       "中国听力医学发展基金会          101\n",
       "万科公益基金会               98\n",
       "华民慈善基金会               84\n",
       "北京青少年发展基金会            78\n",
       "                    ... \n",
       "杭州市关爱孤儿基金会             1\n",
       "云南华商公益基金会              1\n",
       "内蒙古光彩事业基金会             1\n",
       "永恒慈善基金会                1\n",
       "北京万通公益基金会              1\n",
       "北京中国国家博物馆事业发展基金会       1\n",
       "江苏宏德文化出版基金会            1\n",
       "北京中国青年政治学院教育基金会        1\n",
       "北京中央民族大学教育基金会          1\n",
       "北京中央音乐学院教育基金会          1\n",
       "北京中艺艺术基金会              1\n",
       "北京中金公益基金会              1\n",
       "德阳市关心下一代基金会            1\n",
       "河南省福兴儿童公益基金会           1\n",
       "北京京安公益基金会              1\n",
       "北京利星行慈善基金会             1\n",
       "北京华彬文化基金会              1\n",
       "海仓慈善基金会                1\n",
       "北京协和医学基金会              1\n",
       "北京友好传承文化基金会            1\n",
       "广西妇女儿童发展基金会            1\n",
       "深圳市朱树豪纪念慈善基金会          1\n",
       "广东省财新公益基金会             1\n",
       "北京市光明慈善基金会             1\n",
       "北京市壹嘉壹慈善基金会            1\n",
       "广东省豪爵慈善基金会             1\n",
       "云南省妇女儿童发展基金会           1\n",
       "广东省教育基金会               1\n",
       "湖南践行国学公益基金会            1\n",
       "北京中国石油大学教育基金会          1\n",
       "Name: id, dtype: int64"
      ]
     },
     "execution_count": 88,
     "metadata": {},
     "output_type": "execute_result"
    }
   ],
   "source": [
    "info_df[info_df['time']>'2017-01-01'].groupby('foundation').count()['id'].sort_values(ascending = False)"
   ]
  },
  {
   "cell_type": "markdown",
   "metadata": {
    "nbpresent": {
     "id": "fe707611-7a2a-4110-948a-27a51b679b4a"
    }
   },
   "source": [
    "fcode = []\n",
    "fcont = []\n",
    "for f in txtfile:\n",
    "    with open(f, encoding='utf8') as infile:\n",
    "        html = BeautifulSoup(infile, \"html.parser\")\n",
    "        fcont.append(html.text.strip())\n",
    "        fcode.append(f)"
   ]
  },
  {
   "cell_type": "code",
   "execution_count": null,
   "metadata": {
    "collapsed": true,
    "nbpresent": {
     "id": "0cac34b0-da9d-4fee-8b60-e2a1bb9affae"
    }
   },
   "outputs": [],
   "source": [
    "def read_file(txtfile):\n",
    "    for f in txtfile:\n",
    "        with open(f, encoding='utf8') as infile:\n",
    "            html = BeautifulSoup(infile, \"html.parser\")\n",
    "            fcont.append(html.text.strip())\n",
    "            fcode.append(f)\n",
    "    return "
   ]
  },
  {
   "cell_type": "code",
   "execution_count": 11,
   "metadata": {
    "nbpresent": {
     "id": "6cd4a31e-95d3-44f1-bfa3-3177c2ffa6ac"
    }
   },
   "outputs": [
    {
     "data": {
      "text/plain": [
       "'9月27日上午，北京交通大学教育基金会一行来我校调研，双方就校庆捐赠、基金会筹资方式、基金会评估及具体业务处理等方面的问题进行座谈。\\n\\xa0\\xa0\\xa0 北京交通大学教育基金会副秘书长徐劲松，对外联络合作处基金工作部部长毕斐代表交大教育基金会进行交流，我校财务处处长、教育基金会秘书长应惟伟，校友办副主任、教育基金会副秘书长顾家赟以及财务处和基金会的相关工作人员参加了座谈会。\\n\\xa0\\xa0\\xa0 双方介绍了本校基金会的基本架构及接受捐赠情况，而后就各自关心的问题展开了深入的探讨。针对交大基金会关心的校庆捐赠的前期宣传、筹备及现场捐赠方面的问题，应惟伟处长对我校校庆捐赠的组织筹备情况作详细的介绍，并提出了“项目营销”的筹资新理念。我校也就基金会评估以及一些具体的业务处理问题与交大基金会进行了深入交流。'"
      ]
     },
     "execution_count": 11,
     "metadata": {},
     "output_type": "execute_result"
    }
   ],
   "source": [
    "html.text.strip()"
   ]
  }
 ],
 "metadata": {
  "anaconda-cloud": {},
  "kernelspec": {
   "display_name": "Python [default]",
   "language": "python",
   "name": "python3"
  },
  "language_info": {
   "codemirror_mode": {
    "name": "ipython",
    "version": 3
   },
   "file_extension": ".py",
   "mimetype": "text/x-python",
   "name": "python",
   "nbconvert_exporter": "python",
   "pygments_lexer": "ipython3",
   "version": "3.5.2"
  },
  "nbpresent": {
   "slides": {
    "012fef21-bfc7-44f7-bdda-1af6eb788459": {
     "id": "012fef21-bfc7-44f7-bdda-1af6eb788459",
     "prev": "35858f97-5b23-42ef-8245-3fab71f88a40",
     "regions": {
      "fec72adf-7d48-4f2b-aa60-2304f25e4218": {
       "attrs": {
        "height": 0.8,
        "width": 0.8,
        "x": 0.1,
        "y": 0.1
       },
       "content": {
        "cell": "304191d6-e521-495b-8d84-0c8c543b1b2d",
        "part": "whole"
       },
       "id": "fec72adf-7d48-4f2b-aa60-2304f25e4218"
      }
     }
    },
    "03a43cf6-5fe2-47e5-8fbd-23722a3cc1d5": {
     "id": "03a43cf6-5fe2-47e5-8fbd-23722a3cc1d5",
     "prev": "22507bea-28f4-4380-92fd-a0bbae013a09",
     "regions": {
      "5b9604fb-ddba-47d2-a11c-3a0cee4c92d6": {
       "attrs": {
        "height": 0.8,
        "width": 0.8,
        "x": 0.1,
        "y": 0.1
       },
       "content": {
        "cell": "434f1f85-d968-42c5-8c4a-97d309401552",
        "part": "whole"
       },
       "id": "5b9604fb-ddba-47d2-a11c-3a0cee4c92d6"
      }
     }
    },
    "0e7ad806-15c3-4444-9e24-f8402355e6f9": {
     "id": "0e7ad806-15c3-4444-9e24-f8402355e6f9",
     "prev": "6d03d72f-c24d-4708-aae4-f0ed7f343f62",
     "regions": {
      "ca692b5c-53d7-499e-9734-7f85d100702c": {
       "attrs": {
        "height": 0.8,
        "width": 0.8,
        "x": 0.1,
        "y": 0.1
       },
       "content": {
        "cell": "0cac34b0-da9d-4fee-8b60-e2a1bb9affae",
        "part": "whole"
       },
       "id": "ca692b5c-53d7-499e-9734-7f85d100702c"
      }
     }
    },
    "15d99b76-c402-4190-83bf-fc57f9e3cda9": {
     "id": "15d99b76-c402-4190-83bf-fc57f9e3cda9",
     "prev": "1f78fcaa-b314-4d57-a1c7-fec95e4b0612",
     "regions": {
      "cfc2e95c-54fe-427e-ad3b-bd423891bd04": {
       "attrs": {
        "height": 0.8,
        "width": 0.8,
        "x": 0.1,
        "y": 0.1
       },
       "content": {
        "cell": "3ab07ef7-5948-4d7d-b8d1-3d24704f7c9a",
        "part": "whole"
       },
       "id": "cfc2e95c-54fe-427e-ad3b-bd423891bd04"
      }
     }
    },
    "1bb0bdd9-fb94-4ae9-8d38-6c598d644f0e": {
     "id": "1bb0bdd9-fb94-4ae9-8d38-6c598d644f0e",
     "prev": "31f4c25a-f0ab-4d66-9ffb-d770750f8713",
     "regions": {
      "f070c3ce-80d6-4b6a-930f-0b59f15ad9f4": {
       "attrs": {
        "height": 0.8,
        "width": 0.8,
        "x": 0.1,
        "y": 0.1
       },
       "content": {
        "cell": "54cfac97-495e-45ee-a740-f77a35812105",
        "part": "whole"
       },
       "id": "f070c3ce-80d6-4b6a-930f-0b59f15ad9f4"
      }
     }
    },
    "1f78fcaa-b314-4d57-a1c7-fec95e4b0612": {
     "id": "1f78fcaa-b314-4d57-a1c7-fec95e4b0612",
     "prev": "72c1a19d-6c5c-4fcd-b68b-da875bb887a5",
     "regions": {
      "f1ba672f-38e3-4548-befe-2e9458d2599f": {
       "attrs": {
        "height": 0.8,
        "width": 0.8,
        "x": 0.1,
        "y": 0.1
       },
       "content": {
        "cell": "dbf5cbe0-0e51-4ff2-a443-c3d03d9ae8d1",
        "part": "whole"
       },
       "id": "f1ba672f-38e3-4548-befe-2e9458d2599f"
      }
     }
    },
    "22507bea-28f4-4380-92fd-a0bbae013a09": {
     "id": "22507bea-28f4-4380-92fd-a0bbae013a09",
     "prev": "85f8a5d1-ab07-4b7d-a3e6-33dca62e5f04",
     "regions": {
      "33a32f0c-beeb-407b-843a-e235d466d3bf": {
       "attrs": {
        "height": 0.8,
        "width": 0.8,
        "x": 0.1,
        "y": 0.1
       },
       "content": {
        "cell": "edc8858d-e274-4bd3-b875-c972aefcca8c",
        "part": "whole"
       },
       "id": "33a32f0c-beeb-407b-843a-e235d466d3bf"
      }
     }
    },
    "31f4c25a-f0ab-4d66-9ffb-d770750f8713": {
     "id": "31f4c25a-f0ab-4d66-9ffb-d770750f8713",
     "prev": "012fef21-bfc7-44f7-bdda-1af6eb788459",
     "regions": {
      "dc49bca1-8a17-488e-bc8a-31309856c347": {
       "attrs": {
        "height": 0.8,
        "width": 0.8,
        "x": 0.1,
        "y": 0.1
       },
       "content": {
        "cell": "3755ca4f-301a-4e88-a212-9685eb49e19e",
        "part": "whole"
       },
       "id": "dc49bca1-8a17-488e-bc8a-31309856c347"
      }
     }
    },
    "34ba33d1-f229-45d1-97e1-f2e2295fed33": {
     "id": "34ba33d1-f229-45d1-97e1-f2e2295fed33",
     "prev": "a8d113d6-2be1-4ef7-ad71-68e7358cbae6",
     "regions": {
      "3d8bb480-01fd-441d-a5fb-76feb0d3a340": {
       "attrs": {
        "height": 0.8,
        "width": 0.8,
        "x": 0.1,
        "y": 0.1
       },
       "content": {
        "cell": "cb60980a-00b6-4597-9c85-06725b2c57b9",
        "part": "whole"
       },
       "id": "3d8bb480-01fd-441d-a5fb-76feb0d3a340"
      }
     }
    },
    "35858f97-5b23-42ef-8245-3fab71f88a40": {
     "id": "35858f97-5b23-42ef-8245-3fab71f88a40",
     "prev": "8aa59bd9-6d2e-41a5-809a-f02e041e2e48",
     "regions": {
      "c164baee-1d34-4554-8dc4-2d4497799806": {
       "attrs": {
        "height": 0.8,
        "width": 0.8,
        "x": 0.1,
        "y": 0.1
       },
       "content": {
        "cell": "8d0aacca-7b3c-42e2-9290-cfdded0d510b",
        "part": "whole"
       },
       "id": "c164baee-1d34-4554-8dc4-2d4497799806"
      }
     }
    },
    "53f272a8-9357-442a-8046-cfc6749364f6": {
     "id": "53f272a8-9357-442a-8046-cfc6749364f6",
     "prev": "03a43cf6-5fe2-47e5-8fbd-23722a3cc1d5",
     "regions": {
      "a6d588e8-74be-45b1-bc7e-75a82f2662ec": {
       "attrs": {
        "height": 0.8,
        "width": 0.8,
        "x": 0.1,
        "y": 0.1
       },
       "content": {
        "cell": "e81d355d-646a-4ba3-b1f5-82024fc2c9e9",
        "part": "whole"
       },
       "id": "a6d588e8-74be-45b1-bc7e-75a82f2662ec"
      }
     }
    },
    "5bb9e2b1-cffc-442e-b315-8742fa219741": {
     "id": "5bb9e2b1-cffc-442e-b315-8742fa219741",
     "prev": "cb531ca6-21b6-4a9d-abc0-376444548e6c",
     "regions": {
      "1bac45d2-6245-4a4a-a73d-35cb0e6df83c": {
       "attrs": {
        "height": 0.8,
        "width": 0.8,
        "x": 0.1,
        "y": 0.1
       },
       "content": {
        "cell": "d5183c1f-c8c4-4261-87fc-2774891e64a4",
        "part": "whole"
       },
       "id": "1bac45d2-6245-4a4a-a73d-35cb0e6df83c"
      }
     }
    },
    "6414486d-5fc8-48ea-a1bd-fc05dbcf3f8f": {
     "id": "6414486d-5fc8-48ea-a1bd-fc05dbcf3f8f",
     "prev": "a41d1c6b-d5f2-4825-909e-af31924658e3",
     "regions": {
      "07915c35-0e71-433f-87fd-d889932311b6": {
       "attrs": {
        "height": 0.8,
        "width": 0.8,
        "x": 0.1,
        "y": 0.1
       },
       "content": {
        "cell": "58aaf13d-2a4c-4858-8672-af88deb8b402",
        "part": "whole"
       },
       "id": "07915c35-0e71-433f-87fd-d889932311b6"
      }
     }
    },
    "66d8f350-df0b-48a8-be21-8629b1e868fa": {
     "id": "66d8f350-df0b-48a8-be21-8629b1e868fa",
     "prev": "1bb0bdd9-fb94-4ae9-8d38-6c598d644f0e",
     "regions": {
      "1a66370f-58c6-41af-b943-6527d4f689c9": {
       "attrs": {
        "height": 0.8,
        "width": 0.8,
        "x": 0.1,
        "y": 0.1
       },
       "content": {
        "cell": "c9025240-efdd-43bb-9a17-d7b0304381b9",
        "part": "whole"
       },
       "id": "1a66370f-58c6-41af-b943-6527d4f689c9"
      }
     }
    },
    "6d03d72f-c24d-4708-aae4-f0ed7f343f62": {
     "id": "6d03d72f-c24d-4708-aae4-f0ed7f343f62",
     "prev": "53f272a8-9357-442a-8046-cfc6749364f6",
     "regions": {
      "f57407d4-8400-49c0-988b-f92b4f12cb91": {
       "attrs": {
        "height": 0.8,
        "width": 0.8,
        "x": 0.1,
        "y": 0.1
       },
       "content": {
        "cell": "fe707611-7a2a-4110-948a-27a51b679b4a",
        "part": "whole"
       },
       "id": "f57407d4-8400-49c0-988b-f92b4f12cb91"
      }
     }
    },
    "6dcd73a0-446d-43d9-b4a8-87c89681fe44": {
     "id": "6dcd73a0-446d-43d9-b4a8-87c89681fe44",
     "prev": "c8a7d294-59fc-4d6f-ab87-2e18018a1a68",
     "regions": {
      "f0827dbc-a4ce-4d19-956c-76896b06e02a": {
       "attrs": {
        "height": 0.8,
        "width": 0.8,
        "x": 0.1,
        "y": 0.1
       },
       "content": {
        "cell": "a02e2b00-9204-4d03-b84e-57c6651a5408",
        "part": "whole"
       },
       "id": "f0827dbc-a4ce-4d19-956c-76896b06e02a"
      }
     }
    },
    "72c1a19d-6c5c-4fcd-b68b-da875bb887a5": {
     "id": "72c1a19d-6c5c-4fcd-b68b-da875bb887a5",
     "prev": "34ba33d1-f229-45d1-97e1-f2e2295fed33",
     "regions": {
      "d1af3a80-e792-47ff-b3da-0e5928edf864": {
       "attrs": {
        "height": 0.8,
        "width": 0.8,
        "x": 0.1,
        "y": 0.1
       },
       "content": {
        "cell": "fa71dbc7-a528-4da8-857d-9b5faa5c1659",
        "part": "whole"
       },
       "id": "d1af3a80-e792-47ff-b3da-0e5928edf864"
      }
     }
    },
    "797cebf7-a77a-4a89-adde-27561c7d24b7": {
     "id": "797cebf7-a77a-4a89-adde-27561c7d24b7",
     "prev": "6dcd73a0-446d-43d9-b4a8-87c89681fe44",
     "regions": {
      "ae249e0f-dcb2-4a4a-984f-5bc29060fdd0": {
       "attrs": {
        "height": 0.8,
        "width": 0.8,
        "x": 0.1,
        "y": 0.1
       },
       "content": {
        "cell": "9c773b35-2852-46ec-a7ef-f5d491bbc75e",
        "part": "whole"
       },
       "id": "ae249e0f-dcb2-4a4a-984f-5bc29060fdd0"
      }
     }
    },
    "7f59c091-9e7b-4eb0-a778-3f3b4ff6613e": {
     "id": "7f59c091-9e7b-4eb0-a778-3f3b4ff6613e",
     "prev": "15d99b76-c402-4190-83bf-fc57f9e3cda9",
     "regions": {
      "455f9437-bce0-4ae8-becc-7268daa7ce8a": {
       "attrs": {
        "height": 0.8,
        "width": 0.8,
        "x": 0.1,
        "y": 0.1
       },
       "content": {
        "cell": "650478f3-aa3a-450e-8947-5b0cd22ebcce",
        "part": "whole"
       },
       "id": "455f9437-bce0-4ae8-becc-7268daa7ce8a"
      }
     }
    },
    "85f8a5d1-ab07-4b7d-a3e6-33dca62e5f04": {
     "id": "85f8a5d1-ab07-4b7d-a3e6-33dca62e5f04",
     "prev": "7f59c091-9e7b-4eb0-a778-3f3b4ff6613e",
     "regions": {
      "24bbc5a7-7903-4625-9a64-82aad094a778": {
       "attrs": {
        "height": 0.8,
        "width": 0.8,
        "x": 0.1,
        "y": 0.1
       },
       "content": {
        "cell": "9b0d883f-9cdd-47ae-ba20-103ac27f06b5",
        "part": "whole"
       },
       "id": "24bbc5a7-7903-4625-9a64-82aad094a778"
      }
     }
    },
    "8aa59bd9-6d2e-41a5-809a-f02e041e2e48": {
     "id": "8aa59bd9-6d2e-41a5-809a-f02e041e2e48",
     "prev": "5bb9e2b1-cffc-442e-b315-8742fa219741",
     "regions": {
      "312c304a-f621-4162-8e5e-96f354ac8e70": {
       "attrs": {
        "height": 0.8,
        "width": 0.8,
        "x": 0.1,
        "y": 0.1
       },
       "content": {
        "cell": "5bc86efe-94e1-4bde-baf3-4c38b1b726b5",
        "part": "whole"
       },
       "id": "312c304a-f621-4162-8e5e-96f354ac8e70"
      }
     }
    },
    "991d71f2-6b8f-4da0-8878-271df09ff810": {
     "id": "991d71f2-6b8f-4da0-8878-271df09ff810",
     "prev": "eef695a8-8654-457d-8e10-c8d222c3245b",
     "regions": {
      "855cbdf6-82fe-40af-a7bd-ec5a26640212": {
       "attrs": {
        "height": 0.8,
        "width": 0.8,
        "x": 0.1,
        "y": 0.1
       },
       "content": {
        "cell": "f8376cae-1a7d-4d19-b43f-160fef2ab8bf",
        "part": "whole"
       },
       "id": "855cbdf6-82fe-40af-a7bd-ec5a26640212"
      }
     }
    },
    "9e62dd20-e306-4064-9d64-68ac168e4886": {
     "id": "9e62dd20-e306-4064-9d64-68ac168e4886",
     "prev": "991d71f2-6b8f-4da0-8878-271df09ff810",
     "regions": {
      "ba38da6a-b039-4787-a2a6-696b774299ec": {
       "attrs": {
        "height": 0.8,
        "width": 0.8,
        "x": 0.1,
        "y": 0.1
       },
       "content": {
        "cell": "ea633083-126b-422f-9f58-2dddaf873168",
        "part": "whole"
       },
       "id": "ba38da6a-b039-4787-a2a6-696b774299ec"
      }
     }
    },
    "9ed1116d-2b6a-46dc-859e-2d0fe713e87b": {
     "id": "9ed1116d-2b6a-46dc-859e-2d0fe713e87b",
     "prev": "cbcd0412-a9a1-49f0-967d-3e7762c33549",
     "regions": {
      "e0c8fd0d-bdfb-4929-a253-015fff9c3277": {
       "attrs": {
        "height": 0.8,
        "width": 0.8,
        "x": 0.1,
        "y": 0.1
       },
       "content": {
        "cell": "827776fe-a21f-4253-963b-bd1c3fcf1785",
        "part": "whole"
       },
       "id": "e0c8fd0d-bdfb-4929-a253-015fff9c3277"
      }
     }
    },
    "a41d1c6b-d5f2-4825-909e-af31924658e3": {
     "id": "a41d1c6b-d5f2-4825-909e-af31924658e3",
     "prev": "797cebf7-a77a-4a89-adde-27561c7d24b7",
     "regions": {
      "e4119c94-6e75-445c-9e91-a9ca9d2beef9": {
       "attrs": {
        "height": 0.8,
        "width": 0.8,
        "x": 0.1,
        "y": 0.1
       },
       "content": {
        "cell": "7bf9ebab-f45b-4281-b9fa-e406830b4a3d",
        "part": "whole"
       },
       "id": "e4119c94-6e75-445c-9e91-a9ca9d2beef9"
      }
     }
    },
    "a8d113d6-2be1-4ef7-ad71-68e7358cbae6": {
     "id": "a8d113d6-2be1-4ef7-ad71-68e7358cbae6",
     "prev": "9ed1116d-2b6a-46dc-859e-2d0fe713e87b",
     "regions": {
      "73a94b6b-276d-4420-a3e1-527615589e1c": {
       "attrs": {
        "height": 0.8,
        "width": 0.8,
        "x": 0.1,
        "y": 0.1
       },
       "content": {
        "cell": "83936ab1-920e-47d7-806d-2a60112922aa",
        "part": "whole"
       },
       "id": "73a94b6b-276d-4420-a3e1-527615589e1c"
      }
     }
    },
    "c8a7d294-59fc-4d6f-ab87-2e18018a1a68": {
     "id": "c8a7d294-59fc-4d6f-ab87-2e18018a1a68",
     "prev": "e18c76cd-d5ed-4ad2-9e52-c92bc2647027",
     "regions": {
      "a4e86148-b5da-4127-9006-3637575196c3": {
       "attrs": {
        "height": 0.8,
        "width": 0.8,
        "x": 0.1,
        "y": 0.1
       },
       "content": {
        "cell": "0b3c2382-68f0-482f-a3f3-9ef41796b324",
        "part": "whole"
       },
       "id": "a4e86148-b5da-4127-9006-3637575196c3"
      }
     }
    },
    "cb531ca6-21b6-4a9d-abc0-376444548e6c": {
     "id": "cb531ca6-21b6-4a9d-abc0-376444548e6c",
     "prev": "9e62dd20-e306-4064-9d64-68ac168e4886",
     "regions": {
      "d4e4e715-a22e-4853-9bc7-b28f5a127ba6": {
       "attrs": {
        "height": 0.8,
        "width": 0.8,
        "x": 0.1,
        "y": 0.1
       },
       "content": {
        "cell": "8a177382-46ef-4896-926a-804d535ab7aa",
        "part": "whole"
       },
       "id": "d4e4e715-a22e-4853-9bc7-b28f5a127ba6"
      }
     }
    },
    "cbcd0412-a9a1-49f0-967d-3e7762c33549": {
     "id": "cbcd0412-a9a1-49f0-967d-3e7762c33549",
     "prev": "6414486d-5fc8-48ea-a1bd-fc05dbcf3f8f",
     "regions": {
      "65fa1655-c4fc-4fb2-9851-9a4d2b85c094": {
       "attrs": {
        "height": 0.8,
        "width": 0.8,
        "x": 0.1,
        "y": 0.1
       },
       "content": {
        "cell": "512c9a00-31ea-4963-a0e8-2c41865a5a42",
        "part": "whole"
       },
       "id": "65fa1655-c4fc-4fb2-9851-9a4d2b85c094"
      }
     }
    },
    "e18c76cd-d5ed-4ad2-9e52-c92bc2647027": {
     "id": "e18c76cd-d5ed-4ad2-9e52-c92bc2647027",
     "prev": "66d8f350-df0b-48a8-be21-8629b1e868fa",
     "regions": {
      "23049f0f-84c4-473a-b410-a63634d52638": {
       "attrs": {
        "height": 0.8,
        "width": 0.8,
        "x": 0.1,
        "y": 0.1
       },
       "content": {
        "cell": "e845662f-f5d4-4cbc-95f6-11980c7a5eba",
        "part": "whole"
       },
       "id": "23049f0f-84c4-473a-b410-a63634d52638"
      }
     }
    },
    "e9e20834-8249-4048-84e0-82003fc3fb96": {
     "id": "e9e20834-8249-4048-84e0-82003fc3fb96",
     "prev": "0e7ad806-15c3-4444-9e24-f8402355e6f9",
     "regions": {
      "459cbcdb-0075-460a-9f40-9142aa4163d0": {
       "attrs": {
        "height": 0.8,
        "width": 0.8,
        "x": 0.1,
        "y": 0.1
       },
       "content": {
        "cell": "6cd4a31e-95d3-44f1-bfa3-3177c2ffa6ac",
        "part": "whole"
       },
       "id": "459cbcdb-0075-460a-9f40-9142aa4163d0"
      }
     }
    },
    "eef695a8-8654-457d-8e10-c8d222c3245b": {
     "id": "eef695a8-8654-457d-8e10-c8d222c3245b",
     "prev": null,
     "regions": {
      "7d477a07-26c2-48c5-bb13-31fbb40e260f": {
       "attrs": {
        "height": 0.8,
        "width": 0.8,
        "x": 0.1,
        "y": 0.1
       },
       "content": {
        "cell": "228e3fb5-b96f-4004-8004-14809b21e512",
        "part": "whole"
       },
       "id": "7d477a07-26c2-48c5-bb13-31fbb40e260f"
      }
     }
    }
   },
   "themes": {}
  },
  "widgets": {
   "state": {
    "9301fe84793041daa8270718484a1672": {
     "views": [
      {
       "cell_index": 13
      }
     ]
    },
    "c74bad2237a94df5a70e4fea4d516fa5": {
     "views": [
      {
       "cell_index": 12
      }
     ]
    }
   },
   "version": "1.2.0"
  }
 },
 "nbformat": 4,
 "nbformat_minor": 1
}
