{
 "cells": [
  {
   "cell_type": "markdown",
   "metadata": {},
   "source": [
    "### summary \n",
    "\n",
    "1. store all csv files into a local database\n",
    "2. exploratory data analysis"
   ]
  },
  {
   "cell_type": "code",
   "execution_count": 1,
   "metadata": {
    "collapsed": true
   },
   "outputs": [],
   "source": [
    "import os\n",
    "import pandas as pd\n",
    "import time\n",
    "import numpy as np\n",
    "import re\n",
    "import sqlite3 as lite\n",
    "import matplotlib.pyplot as plt\n",
    "%matplotlib inline\n",
    "import seaborn"
   ]
  },
  {
   "cell_type": "code",
   "execution_count": 3,
   "metadata": {
    "collapsed": true
   },
   "outputs": [],
   "source": [
    "conProject = lite.connect('project.db')  "
   ]
  },
  {
   "cell_type": "code",
   "execution_count": 37,
   "metadata": {
    "collapsed": false
   },
   "outputs": [
    {
     "name": "stdout",
     "output_type": "stream",
     "text": [
      "known_opponents\n",
      "           uid\n",
      "0  19157958576\n",
      "1   1921037064\n",
      "2  19523424409\n",
      "3   1985936339\n",
      "4   1997209536\n",
      "11379\n",
      "-----------------------\n",
      "known_supporters\n",
      "      PRIMARYID\n",
      "0   19522903378\n",
      "1   19522675673\n",
      "2      37617112\n",
      "3  3470FR176519\n",
      "4      50765848\n",
      "105134\n",
      "-----------------------\n",
      "model_probabilities\n",
      "           uid  local_schools__good  local_schools__fair  local_schools__poor  \\\n",
      "0  19101063480             0.177226             0.309224             0.513550   \n",
      "1  19101122779             0.318363             0.497278             0.184359   \n",
      "2  19101930697             0.259784             0.513264             0.226952   \n",
      "3  19102226061             0.326893             0.510956             0.162151   \n",
      "4  19104235280             0.264571             0.413334             0.322095   \n",
      "\n",
      "   vote__candidateA  vote__other  vote__candidateB  ideology__conservative  \\\n",
      "0          0.286004     0.254312          0.459684                0.571222   \n",
      "1          0.250517     0.097125          0.652358                0.068001   \n",
      "2          0.250072     0.137827          0.612101                0.053519   \n",
      "3          0.357379     0.114221          0.528400                0.102977   \n",
      "4          0.302891     0.164756          0.532354                0.089655   \n",
      "\n",
      "   ideology__liberal  ideology__moderate  ideology__progressive  \\\n",
      "0           0.149370            0.160582               0.118826   \n",
      "1           0.324818            0.306552               0.300629   \n",
      "2           0.297271            0.279585               0.369624   \n",
      "3           0.308384            0.355358               0.233281   \n",
      "4           0.309998            0.382134               0.218212   \n",
      "\n",
      "   issueA__no_concerns  issueA__serious_concerns  issueA__some_concerns  \\\n",
      "0             0.269443                  0.508679               0.221877   \n",
      "1             0.288238                  0.411582               0.300180   \n",
      "2             0.284489                  0.389624               0.325887   \n",
      "3             0.227971                  0.527887               0.244143   \n",
      "4             0.246472                  0.454156               0.299372   \n",
      "\n",
      "   issueB__no_concerns  issueB__serious_concerns  issueB__some_concerns  \\\n",
      "0             0.228690                  0.553770               0.217540   \n",
      "1             0.305508                  0.409580               0.284912   \n",
      "2             0.297812                  0.400432               0.301756   \n",
      "3             0.231301                  0.473917               0.294783   \n",
      "4             0.269435                  0.434299               0.296266   \n",
      "\n",
      "    turnout  persuadability__score  job_performance__candidateB  \n",
      "0  0.781051               0.808091                     0.302316  \n",
      "1  0.321001               0.481455                     0.528614  \n",
      "2  0.927072               0.417750                     0.560018  \n",
      "3  0.033656               0.556736                     0.422886  \n",
      "4  0.186029               0.583980                     0.370679  \n",
      "452223\n",
      "-----------------------\n",
      "phone_bank\n",
      "        Date  Total Calls  Total Connects  Total Agree  Total Undecided  \\\n",
      "0  1/26/2017          142              65           40                9   \n",
      "1  1/27/2017          134              78           49                8   \n",
      "2  1/28/2017          125              66           28                6   \n",
      "3  1/29/2017          111              66           28                4   \n",
      "4  1/30/2017          121              98           40               14   \n",
      "\n",
      "   Total Volunteer  \n",
      "0                5  \n",
      "1                7  \n",
      "2                7  \n",
      "3                3  \n",
      "4                1  \n",
      "74\n",
      "-----------------------\n"
     ]
    },
    {
     "name": "stderr",
     "output_type": "stream",
     "text": [
      "C:\\Users\\Miya\\Anaconda3\\lib\\site-packages\\pandas\\core\\generic.py:1165: UserWarning: The spaces in these column names will not be changed. In pandas versions < 0.14, spaces were converted to underscores.\n",
      "  chunksize=chunksize, dtype=dtype)\n"
     ]
    },
    {
     "name": "stdout",
     "output_type": "stream",
     "text": [
      "uid_to_household_key\n",
      "           uid household_key\n",
      "0  19205437418  19-192265379\n",
      "1  19418806098  19-192265368\n",
      "2  19526898264  19-192265470\n",
      "3  19523377311  19-192265425\n",
      "4  19522932867  19-192265429\n",
      "452223\n",
      "-----------------------\n",
      "voter_file\n",
      "           uid   age  avghomevalue  avgincome  edu_cg  edu_gd  edu_hsg  \\\n",
      "0  19522840044  61.0        656249     160770      40      12       22   \n",
      "1  19251264405  57.0        656249     160770      40      12       22   \n",
      "2  19269989178  64.0        656249     160770      40      12       22   \n",
      "3  19526179466  91.0        656249     160770      40      12       22   \n",
      "4  19140377533  50.0        656249     160770      40      12       22   \n",
      "\n",
      "   edu_nhsg  edu_sc voted_statewide_primary_2012     ...       \\\n",
      "0        10      26                            N     ...        \n",
      "1        10      26                            A     ...        \n",
      "2        10      26                            A     ...        \n",
      "3        10      26                            A     ...        \n",
      "4        10      26                            A     ...        \n",
      "\n",
      "  voted_statewide_general_2014 voted_municipal_primary_2015  \\\n",
      "0                            A                            N   \n",
      "1                            N                            N   \n",
      "2                            A                            A   \n",
      "3                            A                            A   \n",
      "4                            A                            A   \n",
      "\n",
      "  voted_municipal_general_2015 voted_statewide_primary_2016 home ismarried  \\\n",
      "0                            N                            A    H         Y   \n",
      "1                            N                            A  NaN         N   \n",
      "2                            N                            A    H         N   \n",
      "3                            N                            A    H         N   \n",
      "4                            N                            A    H         N   \n",
      "\n",
      "  neighborhood party sex whitecollarp  \n",
      "0           16     D   F           84  \n",
      "1           16     D   F           84  \n",
      "2           16     D   M           84  \n",
      "3           16     D   M           84  \n",
      "4           16     D   M           84  \n",
      "\n",
      "[5 rows x 24 columns]\n",
      "434624\n",
      "-----------------------\n"
     ]
    }
   ],
   "source": [
    "import glob\n",
    "extension = 'csv'\n",
    "result = [i for i in glob.glob('*.{}'.format(extension))]\n",
    "\n",
    "for file in result:    \n",
    "    data = pd.read_csv(file, sep=',')\n",
    "    name = file.split('.')[0]\n",
    "    print(name)\n",
    "    print(data.head()) \n",
    "    record_cnt = data.shape[0] \n",
    "    print(record_cnt)\n",
    "    print('-----------------------')\n",
    "    data.to_sql(name=name, con=conProject, flavor='sqlite', if_exists='replace')"
   ]
  },
  {
   "cell_type": "code",
   "execution_count": 7,
   "metadata": {
    "collapsed": false
   },
   "outputs": [
    {
     "name": "stdout",
     "output_type": "stream",
     "text": [
      "[('CREATE TABLE \"voter_file\" (\\n\"index\" INTEGER,\\n  \"uid\" INTEGER,\\n  \"age\" REAL,\\n  \"avghomevalue\" INTEGER,\\n  \"avgincome\" INTEGER,\\n  \"edu_cg\" INTEGER,\\n  \"edu_gd\" INTEGER,\\n  \"edu_hsg\" INTEGER,\\n  \"edu_nhsg\" INTEGER,\\n  \"edu_sc\" INTEGER,\\n  \"voted_statewide_primary_2012\" TEXT,\\n  \"voted_statewide_general_2012\" TEXT,\\n  \"voted_municipal_primary_2013\" TEXT,\\n  \"voted_municipal_general_2013\" TEXT,\\n  \"voted_statewide_primary_2014\" TEXT,\\n  \"voted_statewide_general_2014\" TEXT,\\n  \"voted_municipal_primary_2015\" TEXT,\\n  \"voted_municipal_general_2015\" TEXT,\\n  \"voted_statewide_primary_2016\" TEXT,\\n  \"home\" TEXT,\\n  \"ismarried\" TEXT,\\n  \"neighborhood\" INTEGER,\\n  \"party\" TEXT,\\n  \"sex\" TEXT,\\n  \"whitecollarp\" INTEGER\\n)',)]\n"
     ]
    }
   ],
   "source": [
    "with conProject:\n",
    "    cur = conProject.cursor()\n",
    "    cur.execute(\"\"\"select sql from sqlite_master where type = 'table' and name = 'voter_file'\"\"\")\n",
    "    desc = cur.fetchall()\n",
    "    print(desc)"
   ]
  },
  {
   "cell_type": "code",
   "execution_count": 74,
   "metadata": {
    "collapsed": false
   },
   "outputs": [
    {
     "name": "stdout",
     "output_type": "stream",
     "text": [
      "[('CREATE TABLE \"known_supporters\" (\\n\"index\" INTEGER,\\n  \"PRIMARYID\" TEXT\\n)',)]\n"
     ]
    }
   ],
   "source": [
    "with conProject:\n",
    "    cur = conProject.cursor()\n",
    "    cur.execute(\"\"\"select sql from sqlite_master where type = 'table' and name = 'known_supporters'\"\"\")\n",
    "    desc = cur.fetchall()\n",
    "    print(desc)"
   ]
  },
  {
   "cell_type": "code",
   "execution_count": 86,
   "metadata": {
    "collapsed": false
   },
   "outputs": [
    {
     "name": "stdout",
     "output_type": "stream",
     "text": [
      "[('CREATE TABLE \"model_probabilities\" (\\n\"index\" INTEGER,\\n  \"uid\" INTEGER,\\n  \"local_schools__good\" REAL,\\n  \"local_schools__fair\" REAL,\\n  \"local_schools__poor\" REAL,\\n  \"vote__candidateA\" REAL,\\n  \"vote__other\" REAL,\\n  \"vote__candidateB\" REAL,\\n  \"ideology__conservative\" REAL,\\n  \"ideology__liberal\" REAL,\\n  \"ideology__moderate\" REAL,\\n  \"ideology__progressive\" REAL,\\n  \"issueA__no_concerns\" REAL,\\n  \"issueA__serious_concerns\" REAL,\\n  \"issueA__some_concerns\" REAL,\\n  \"issueB__no_concerns\" REAL,\\n  \"issueB__serious_concerns\" REAL,\\n  \"issueB__some_concerns\" REAL,\\n  \"turnout\" REAL,\\n  \"persuadability__score\" REAL,\\n  \"job_performance__candidateB\" REAL\\n)',)]\n"
     ]
    }
   ],
   "source": [
    "with conProject:\n",
    "    cur = conProject.cursor()\n",
    "    cur.execute(\"\"\"select sql from sqlite_master where type = 'table' and name = 'model_probabilities'\"\"\")\n",
    "    desc = cur.fetchall()\n",
    "    print(desc)"
   ]
  },
  {
   "cell_type": "code",
   "execution_count": 76,
   "metadata": {
    "collapsed": false
   },
   "outputs": [
    {
     "name": "stdout",
     "output_type": "stream",
     "text": [
      "[('CREATE TABLE \"phone_bank\" (\\n\"index\" INTEGER,\\n  \"Date\" TEXT,\\n  \"Total Calls\" INTEGER,\\n  \"Total Connects\" INTEGER,\\n  \"Total Agree\" INTEGER,\\n  \"Total Undecided\" INTEGER,\\n  \"Total Volunteer\" INTEGER\\n)',)]\n"
     ]
    }
   ],
   "source": [
    "with conProject:\n",
    "    cur = conProject.cursor()\n",
    "    cur.execute(\"\"\"select sql from sqlite_master where type = 'table' and name = 'phone_bank'\"\"\")\n",
    "    desc = cur.fetchall()\n",
    "    print(desc)"
   ]
  },
  {
   "cell_type": "code",
   "execution_count": 87,
   "metadata": {
    "collapsed": false
   },
   "outputs": [
    {
     "name": "stdout",
     "output_type": "stream",
     "text": [
      "[('CREATE TABLE \"uid_to_household_key\" (\\n\"index\" INTEGER,\\n  \"uid\" INTEGER,\\n  \"household_key\" TEXT\\n)',)]\n"
     ]
    }
   ],
   "source": [
    "with conProject:\n",
    "    cur = conProject.cursor()\n",
    "    cur.execute(\"\"\"select sql from sqlite_master where type = 'table' and name = 'uid_to_household_key'\"\"\")\n",
    "    desc = cur.fetchall()\n",
    "    print(desc)"
   ]
  },
  {
   "cell_type": "code",
   "execution_count": 78,
   "metadata": {
    "collapsed": false
   },
   "outputs": [
    {
     "name": "stdout",
     "output_type": "stream",
     "text": [
      "[('CREATE TABLE \"known_opponents\" (\\n\"index\" INTEGER,\\n  \"uid\" INTEGER\\n)',)]\n"
     ]
    }
   ],
   "source": [
    "with conProject:\n",
    "    cur = conProject.cursor()\n",
    "    cur.execute(\"\"\"select sql from sqlite_master where type = 'table' and name = 'known_opponents'\"\"\")\n",
    "    desc = cur.fetchall()\n",
    "    print(desc)"
   ]
  },
  {
   "cell_type": "markdown",
   "metadata": {},
   "source": [
    "#### Slide 1: Population overviewSummarize the overall electorate on the following variables: \n",
    "\n",
    "age, income, party,ideology, and charter school support. Present the client with both counts and percentages."
   ]
  },
  {
   "cell_type": "code",
   "execution_count": 44,
   "metadata": {
    "collapsed": false
   },
   "outputs": [
    {
     "name": "stdout",
     "output_type": "stream",
     "text": [
      "[(434624, 434624)]\n"
     ]
    }
   ],
   "source": [
    "with conProject:\n",
    "    cur = conProject.cursor()\n",
    "    cur.execute(\"\"\"select count(uid),count(distinct uid) from voter_file\"\"\")\n",
    "    duplicate = cur.fetchall()\n",
    "    print(duplicate)"
   ]
  },
  {
   "cell_type": "code",
   "execution_count": 45,
   "metadata": {
    "collapsed": false
   },
   "outputs": [
    {
     "name": "stdout",
     "output_type": "stream",
     "text": [
      "[(452223, 452223)]\n"
     ]
    }
   ],
   "source": [
    "with conProject:\n",
    "    cur = conProject.cursor()\n",
    "    cur.execute(\"\"\"select count(uid),count(distinct uid) from model_probabilities\"\"\")\n",
    "    duplicate = cur.fetchall()\n",
    "    print(duplicate)"
   ]
  },
  {
   "cell_type": "code",
   "execution_count": 29,
   "metadata": {
    "collapsed": false
   },
   "outputs": [
    {
     "name": "stdout",
     "output_type": "stream",
     "text": [
      "[('neutral', 403056, '0.8913'), ('opponent', 45151, '0.0998'), ('supporter', 4016, '0.0089')]\n"
     ]
    }
   ],
   "source": [
    "with conProject:\n",
    "    cur = conProject.cursor()\n",
    "    cur.execute(\"\"\" select cssupport, count(*),printf(\"%.4f\", count(*)/(select count(uid)*1.0 from model_probabilities)) from\n",
    "    (select uid, CASE max(local_schools__good, local_schools__fair, local_schools__poor)\n",
    "          WHEN local_schools__good      THEN 'supporter'\n",
    "          WHEN local_schools__fair     THEN 'neutral'\n",
    "          WHEN local_schools__poor    THEN 'opponent'\n",
    "          END AS cssupport from model_probabilities) \n",
    "    group by cssupport\"\"\") \n",
    "    cssupport = cur.fetchall()\n",
    "    print(cssupport)"
   ]
  },
  {
   "cell_type": "code",
   "execution_count": 4,
   "metadata": {
    "collapsed": false,
    "scrolled": true
   },
   "outputs": [
    {
     "data": {
      "text/html": [
       "<div>\n",
       "<table border=\"1\" class=\"dataframe\">\n",
       "  <thead>\n",
       "    <tr style=\"text-align: right;\">\n",
       "      <th></th>\n",
       "      <th>cs</th>\n",
       "      <th>cnt</th>\n",
       "      <th>pct</th>\n",
       "    </tr>\n",
       "  </thead>\n",
       "  <tbody>\n",
       "    <tr>\n",
       "      <th>0</th>\n",
       "      <td>neutral</td>\n",
       "      <td>403056</td>\n",
       "      <td>0.8913</td>\n",
       "    </tr>\n",
       "    <tr>\n",
       "      <th>1</th>\n",
       "      <td>opponent</td>\n",
       "      <td>45151</td>\n",
       "      <td>0.0998</td>\n",
       "    </tr>\n",
       "    <tr>\n",
       "      <th>2</th>\n",
       "      <td>supporter</td>\n",
       "      <td>4016</td>\n",
       "      <td>0.0089</td>\n",
       "    </tr>\n",
       "  </tbody>\n",
       "</table>\n",
       "</div>"
      ],
      "text/plain": [
       "          cs     cnt     pct\n",
       "0    neutral  403056  0.8913\n",
       "1   opponent   45151  0.0998\n",
       "2  supporter    4016  0.0089"
      ]
     },
     "execution_count": 4,
     "metadata": {},
     "output_type": "execute_result"
    }
   ],
   "source": [
    "pd.DataFrame(cssupport,columns = ['cs','cnt','pct']).dropna()"
   ]
  },
  {
   "cell_type": "code",
   "execution_count": 20,
   "metadata": {
    "collapsed": false
   },
   "outputs": [
    {
     "data": {
      "text/plain": [
       "age    0.20371\n",
       "dtype: float64"
      ]
     },
     "execution_count": 20,
     "metadata": {},
     "output_type": "execute_result"
    }
   ],
   "source": [
    "with conProject:\n",
    "    cur = conProject.cursor()\n",
    "    cur.execute(\"\"\"select age from voter_file\"\"\")\n",
    "    age = cur.fetchall()\n",
    "age_df = pd.DataFrame(age,columns = ['age']).dropna()\n",
    "sum(age_df['age']>=65)/age_df.count()"
   ]
  },
  {
   "cell_type": "code",
   "execution_count": 21,
   "metadata": {
    "collapsed": false
   },
   "outputs": [
    {
     "data": {
      "text/plain": [
       "array([[<matplotlib.axes._subplots.AxesSubplot object at 0x000000506F0F2860>]], dtype=object)"
      ]
     },
     "execution_count": 21,
     "metadata": {},
     "output_type": "execute_result"
    },
    {
     "data": {
      "image/png": "[encoded data removed]",
      "text/plain": [
       "<matplotlib.figure.Figure at 0x506f0f22e8>"
      ]
     },
     "metadata": {},
     "output_type": "display_data"
    }
   ],
   "source": [
    "age_df.hist()"
   ]
  },
  {
   "cell_type": "code",
   "execution_count": 9,
   "metadata": {
    "collapsed": false
   },
   "outputs": [
    {
     "data": {
      "text/plain": [
       "age    0.308089\n",
       "dtype: float64"
      ]
     },
     "execution_count": 9,
     "metadata": {},
     "output_type": "execute_result"
    }
   ],
   "source": [
    "sum(age_df['age']<35)/age_df.count()"
   ]
  },
  {
   "cell_type": "code",
   "execution_count": 22,
   "metadata": {
    "collapsed": false
   },
   "outputs": [
    {
     "data": {
      "text/plain": [
       "array([ 0.02273208,  0.38186818,  0.32156763,  0.21601924,  0.05781286])"
      ]
     },
     "execution_count": 22,
     "metadata": {},
     "output_type": "execute_result"
    }
   ],
   "source": [
    "import numpy as np\n",
    "count, division = np.histogram(age_df['age'],bins = [0,20,40,60,80,100])\n",
    "count/sum(count)"
   ]
  },
  {
   "cell_type": "code",
   "execution_count": 23,
   "metadata": {
    "collapsed": false
   },
   "outputs": [
    {
     "data": {
      "text/html": [
       "<div>\n",
       "<table border=\"1\" class=\"dataframe\">\n",
       "  <thead>\n",
       "    <tr style=\"text-align: right;\">\n",
       "      <th></th>\n",
       "      <th>party</th>\n",
       "      <th>cngt</th>\n",
       "      <th>pct</th>\n",
       "    </tr>\n",
       "  </thead>\n",
       "  <tbody>\n",
       "    <tr>\n",
       "      <th>1</th>\n",
       "      <td>D</td>\n",
       "      <td>232145</td>\n",
       "      <td>0.5341</td>\n",
       "    </tr>\n",
       "    <tr>\n",
       "      <th>2</th>\n",
       "      <td>DS</td>\n",
       "      <td>112394</td>\n",
       "      <td>0.2586</td>\n",
       "    </tr>\n",
       "    <tr>\n",
       "      <th>7</th>\n",
       "      <td>R</td>\n",
       "      <td>69532</td>\n",
       "      <td>0.1600</td>\n",
       "    </tr>\n",
       "    <tr>\n",
       "      <th>0</th>\n",
       "      <td>AI</td>\n",
       "      <td>9508</td>\n",
       "      <td>0.0219</td>\n",
       "    </tr>\n",
       "    <tr>\n",
       "      <th>8</th>\n",
       "      <td>YY</td>\n",
       "      <td>4175</td>\n",
       "      <td>0.0096</td>\n",
       "    </tr>\n",
       "    <tr>\n",
       "      <th>4</th>\n",
       "      <td>LI</td>\n",
       "      <td>3135</td>\n",
       "      <td>0.0072</td>\n",
       "    </tr>\n",
       "    <tr>\n",
       "      <th>3</th>\n",
       "      <td>GR</td>\n",
       "      <td>2390</td>\n",
       "      <td>0.0055</td>\n",
       "    </tr>\n",
       "    <tr>\n",
       "      <th>6</th>\n",
       "      <td>PF</td>\n",
       "      <td>1183</td>\n",
       "      <td>0.0027</td>\n",
       "    </tr>\n",
       "    <tr>\n",
       "      <th>5</th>\n",
       "      <td>NL</td>\n",
       "      <td>162</td>\n",
       "      <td>0.0004</td>\n",
       "    </tr>\n",
       "  </tbody>\n",
       "</table>\n",
       "</div>"
      ],
      "text/plain": [
       "  party    cngt     pct\n",
       "1     D  232145  0.5341\n",
       "2    DS  112394  0.2586\n",
       "7     R   69532  0.1600\n",
       "0    AI    9508  0.0219\n",
       "8    YY    4175  0.0096\n",
       "4    LI    3135  0.0072\n",
       "3    GR    2390  0.0055\n",
       "6    PF    1183  0.0027\n",
       "5    NL     162  0.0004"
      ]
     },
     "execution_count": 23,
     "metadata": {},
     "output_type": "execute_result"
    }
   ],
   "source": [
    "with conProject:\n",
    "    cur = conProject.cursor()\n",
    "    cur.execute(\"\"\"select party,count(party),printf(\"%.4f\", count(party)/(select count(uid)*1.0 from voter_file)) from voter_file group by party\"\"\")\n",
    "    party = cur.fetchall()\n",
    "party_df = pd.DataFrame(party,columns = ['party','cngt','pct']).dropna()\n",
    "party_df.sort_values('pct',ascending = False)"
   ]
  },
  {
   "cell_type": "code",
   "execution_count": 24,
   "metadata": {
    "collapsed": false
   },
   "outputs": [],
   "source": [
    "with conProject:\n",
    "    cur = conProject.cursor()\n",
    "    cur.execute(\"\"\"select table1.uid, avgincome, household_key from uid_to_household_key join \n",
    "    (select voter_file.uid,avgincome from voter_file) as table1\n",
    "    where uid_to_household_key.uid = table1.uid\"\"\")\n",
    "    income = cur.fetchall()\n",
    "income_df = pd.DataFrame(income,columns = ['uid','income','household']).dropna()"
   ]
  },
  {
   "cell_type": "code",
   "execution_count": 25,
   "metadata": {
    "collapsed": false
   },
   "outputs": [
    {
     "data": {
      "text/plain": [
       "uid          0.724074\n",
       "income       0.724074\n",
       "household    0.724074\n",
       "dtype: float64"
      ]
     },
     "execution_count": 25,
     "metadata": {},
     "output_type": "execute_result"
    }
   ],
   "source": [
    "sum(income_df['income']>100000)/income_df.count()"
   ]
  },
  {
   "cell_type": "code",
   "execution_count": 26,
   "metadata": {
    "collapsed": false
   },
   "outputs": [
    {
     "data": {
      "text/plain": [
       "array([[<matplotlib.axes._subplots.AxesSubplot object at 0x000000507992D8D0>]], dtype=object)"
      ]
     },
     "execution_count": 26,
     "metadata": {},
     "output_type": "execute_result"
    },
    {
     "data": {
      "image/png": "[encoded data removed]",
      "text/plain": [
       "<matplotlib.figure.Figure at 0x5079953278>"
      ]
     },
     "metadata": {},
     "output_type": "display_data"
    }
   ],
   "source": [
    "income_df[['income','household']].groupby('household').sum().hist(bins = 100)"
   ]
  },
  {
   "cell_type": "code",
   "execution_count": 27,
   "metadata": {
    "collapsed": false
   },
   "outputs": [],
   "source": [
    "count, division = np.histogram(income_df['income'],bins = [0,50000,100000,150000,200000,250000,300000,350000,400000,450000,500000,550000,600000])"
   ]
  },
  {
   "cell_type": "code",
   "execution_count": 28,
   "metadata": {
    "collapsed": false
   },
   "outputs": [
    {
     "data": {
      "text/plain": [
       "array([ 0.06626417,  0.20966168,  0.30873583,  0.2003847 ,  0.14349415,\n",
       "        0.02813466,  0.01759222,  0.00375267,  0.01111075,  0.00478114,\n",
       "        0.00472592,  0.0013621 ])"
      ]
     },
     "execution_count": 28,
     "metadata": {},
     "output_type": "execute_result"
    }
   ],
   "source": [
    "count/sum(count)"
   ]
  },
  {
   "cell_type": "code",
   "execution_count": 29,
   "metadata": {
    "collapsed": false
   },
   "outputs": [
    {
     "data": {
      "text/html": [
       "<div>\n",
       "<table border=\"1\" class=\"dataframe\">\n",
       "  <thead>\n",
       "    <tr style=\"text-align: right;\">\n",
       "      <th></th>\n",
       "      <th>ideology</th>\n",
       "      <th>cnt</th>\n",
       "      <th>pct</th>\n",
       "    </tr>\n",
       "  </thead>\n",
       "  <tbody>\n",
       "    <tr>\n",
       "      <th>0</th>\n",
       "      <td>conservative</td>\n",
       "      <td>35068</td>\n",
       "      <td>0.0775</td>\n",
       "    </tr>\n",
       "    <tr>\n",
       "      <th>1</th>\n",
       "      <td>liberal</td>\n",
       "      <td>179797</td>\n",
       "      <td>0.3976</td>\n",
       "    </tr>\n",
       "    <tr>\n",
       "      <th>2</th>\n",
       "      <td>moderate</td>\n",
       "      <td>88855</td>\n",
       "      <td>0.1965</td>\n",
       "    </tr>\n",
       "    <tr>\n",
       "      <th>3</th>\n",
       "      <td>progressive</td>\n",
       "      <td>148503</td>\n",
       "      <td>0.3284</td>\n",
       "    </tr>\n",
       "  </tbody>\n",
       "</table>\n",
       "</div>"
      ],
      "text/plain": [
       "       ideology     cnt     pct\n",
       "0  conservative   35068  0.0775\n",
       "1       liberal  179797  0.3976\n",
       "2      moderate   88855  0.1965\n",
       "3   progressive  148503  0.3284"
      ]
     },
     "execution_count": 29,
     "metadata": {},
     "output_type": "execute_result"
    }
   ],
   "source": [
    "with conProject:\n",
    "    cur = conProject.cursor()\n",
    "    cur.execute(\"\"\"select ideology, count(ideology),printf(\"%.4f\", count(ideology)/(select count(uid)*1.0 from model_probabilities)) from \n",
    "    (select uid, CASE max(ideology__conservative, ideology__liberal, ideology__moderate, ideology__progressive)\n",
    "          WHEN ideology__conservative      THEN 'conservative'\n",
    "          WHEN ideology__liberal     THEN 'liberal'\n",
    "          WHEN ideology__moderate    THEN 'moderate'\n",
    "          WHEN ideology__progressive      THEN 'progressive'\n",
    "          END AS ideology from model_probabilities) group by ideology \"\"\")\n",
    "    ideology = cur.fetchall()\n",
    "ideology_df = pd.DataFrame(ideology,columns = ['ideology','cnt','pct']).dropna()\n",
    "ideology_df.head()"
   ]
  },
  {
   "cell_type": "code",
   "execution_count": null,
   "metadata": {
    "collapsed": true
   },
   "outputs": [],
   "source": []
  },
  {
   "cell_type": "markdown",
   "metadata": {},
   "source": [
    "Slide 2: Two target populations for a mailer The client is interested in sending a piece of direct mail to charter school supporters, but the budget for the mailer is flexible. We have a list of charter school parents, who we want to contact for sure. Additionally, we have produced models to estimate the likelihood that each person in the dataset is a charter school supporter. Joining different tables as necessary, generate two potential target lists, one larger than the other. Describe your criteria for inclusion in each list. Be sure to de-duplicate each list to ensure that we’re only sending a single piece of mail to each household. Provide final household-level counts for both target lists. Using your best judgment, explain why the client should choose one or the other list."
   ]
  },
  {
   "cell_type": "code",
   "execution_count": 30,
   "metadata": {
    "collapsed": false
   },
   "outputs": [
    {
     "data": {
      "text/html": [
       "<div>\n",
       "<table border=\"1\" class=\"dataframe\">\n",
       "  <thead>\n",
       "    <tr style=\"text-align: right;\">\n",
       "      <th></th>\n",
       "      <th>uid</th>\n",
       "      <th>key</th>\n",
       "    </tr>\n",
       "  </thead>\n",
       "  <tbody>\n",
       "    <tr>\n",
       "      <th>0</th>\n",
       "      <td>19205437418</td>\n",
       "      <td>19-192265379</td>\n",
       "    </tr>\n",
       "    <tr>\n",
       "      <th>1</th>\n",
       "      <td>19418806098</td>\n",
       "      <td>19-192265368</td>\n",
       "    </tr>\n",
       "    <tr>\n",
       "      <th>2</th>\n",
       "      <td>19526898264</td>\n",
       "      <td>19-192265470</td>\n",
       "    </tr>\n",
       "    <tr>\n",
       "      <th>3</th>\n",
       "      <td>19523377311</td>\n",
       "      <td>19-192265425</td>\n",
       "    </tr>\n",
       "    <tr>\n",
       "      <th>4</th>\n",
       "      <td>19522932867</td>\n",
       "      <td>19-192265429</td>\n",
       "    </tr>\n",
       "  </tbody>\n",
       "</table>\n",
       "</div>"
      ],
      "text/plain": [
       "           uid           key\n",
       "0  19205437418  19-192265379\n",
       "1  19418806098  19-192265368\n",
       "2  19526898264  19-192265470\n",
       "3  19523377311  19-192265425\n",
       "4  19522932867  19-192265429"
      ]
     },
     "execution_count": 30,
     "metadata": {},
     "output_type": "execute_result"
    }
   ],
   "source": [
    "# larger universe\n",
    "with conProject:\n",
    "    cur = conProject.cursor()\n",
    "    cur.execute(\"\"\"select distinct uid, household_key from uid_to_household_key\n",
    "    where household_key not in (select distinct household_key from uid_to_household_key\n",
    "    where uid in\n",
    "    (select uid from \n",
    "        (select model_probabilities.uid, CASE max(local_schools__good, local_schools__fair, local_schools__poor)\n",
    "          WHEN local_schools__good      THEN 'supporter'\n",
    "          WHEN local_schools__fair     THEN 'neutral'\n",
    "          WHEN local_schools__poor    THEN 'opponent'\n",
    "          END AS cssupport from model_probabilities\n",
    "          WHERE cssupport = 'opponent')\n",
    "          UNION \n",
    "        select uid from known_opponents))\"\"\")\n",
    "    uid_support = cur.fetchall()\n",
    "support = pd.DataFrame(uid_support,columns = ['uid','key']).dropna()\n",
    "support.head()"
   ]
  },
  {
   "cell_type": "code",
   "execution_count": 31,
   "metadata": {
    "collapsed": false
   },
   "outputs": [
    {
     "data": {
      "text/plain": [
       "uid    244057\n",
       "dtype: int64"
      ]
     },
     "execution_count": 31,
     "metadata": {},
     "output_type": "execute_result"
    }
   ],
   "source": [
    "support.groupby('key').count().count()"
   ]
  },
  {
   "cell_type": "code",
   "execution_count": 32,
   "metadata": {
    "collapsed": false
   },
   "outputs": [
    {
     "data": {
      "text/html": [
       "<div>\n",
       "<table border=\"1\" class=\"dataframe\">\n",
       "  <thead>\n",
       "    <tr style=\"text-align: right;\">\n",
       "      <th></th>\n",
       "      <th>uid</th>\n",
       "      <th>key</th>\n",
       "    </tr>\n",
       "  </thead>\n",
       "  <tbody>\n",
       "    <tr>\n",
       "      <th>0</th>\n",
       "      <td>19205437418</td>\n",
       "      <td>19-192265379</td>\n",
       "    </tr>\n",
       "    <tr>\n",
       "      <th>1</th>\n",
       "      <td>19418806098</td>\n",
       "      <td>19-192265368</td>\n",
       "    </tr>\n",
       "    <tr>\n",
       "      <th>2</th>\n",
       "      <td>19523377311</td>\n",
       "      <td>19-192265425</td>\n",
       "    </tr>\n",
       "    <tr>\n",
       "      <th>3</th>\n",
       "      <td>19522932867</td>\n",
       "      <td>19-192265429</td>\n",
       "    </tr>\n",
       "    <tr>\n",
       "      <th>4</th>\n",
       "      <td>19525602224</td>\n",
       "      <td>19-192265387</td>\n",
       "    </tr>\n",
       "  </tbody>\n",
       "</table>\n",
       "</div>"
      ],
      "text/plain": [
       "           uid           key\n",
       "0  19205437418  19-192265379\n",
       "1  19418806098  19-192265368\n",
       "2  19523377311  19-192265425\n",
       "3  19522932867  19-192265429\n",
       "4  19525602224  19-192265387"
      ]
     },
     "execution_count": 32,
     "metadata": {},
     "output_type": "execute_result"
    }
   ],
   "source": [
    "# smaller universe\n",
    "with conProject:\n",
    "    cur = conProject.cursor()\n",
    "    cur.execute(\"\"\"select distinct uid, household_key from uid_to_household_key\n",
    "    where household_key not in (select distinct household_key from uid_to_household_key\n",
    "    where uid in \n",
    "    (select uid from \n",
    "        (select model_probabilities.uid from model_probabilities\n",
    "          WHERE  local_schools__good <= local_schools__poor)\n",
    "          UNION \n",
    "        select uid from known_opponents))\"\"\")\n",
    "    uid_support2 = cur.fetchall()\n",
    "support2 = pd.DataFrame(uid_support2,columns = ['uid','key']).dropna()\n",
    "support2.head()"
   ]
  },
  {
   "cell_type": "code",
   "execution_count": 33,
   "metadata": {
    "collapsed": false
   },
   "outputs": [
    {
     "data": {
      "text/plain": [
       "uid    193239\n",
       "dtype: int64"
      ]
     },
     "execution_count": 33,
     "metadata": {},
     "output_type": "execute_result"
    }
   ],
   "source": [
    "support2.groupby('key').count().count()"
   ]
  },
  {
   "cell_type": "code",
   "execution_count": 5,
   "metadata": {
    "collapsed": false
   },
   "outputs": [
    {
     "data": {
      "text/html": [
       "<div>\n",
       "<table border=\"1\" class=\"dataframe\">\n",
       "  <thead>\n",
       "    <tr style=\"text-align: right;\">\n",
       "      <th></th>\n",
       "      <th>uid</th>\n",
       "      <th>cssupport</th>\n",
       "    </tr>\n",
       "  </thead>\n",
       "  <tbody>\n",
       "    <tr>\n",
       "      <th>0</th>\n",
       "      <td>19101063480</td>\n",
       "      <td>opponent</td>\n",
       "    </tr>\n",
       "    <tr>\n",
       "      <th>1</th>\n",
       "      <td>19101122779</td>\n",
       "      <td>neutral</td>\n",
       "    </tr>\n",
       "    <tr>\n",
       "      <th>2</th>\n",
       "      <td>19101930697</td>\n",
       "      <td>neutral</td>\n",
       "    </tr>\n",
       "    <tr>\n",
       "      <th>3</th>\n",
       "      <td>19102226061</td>\n",
       "      <td>neutral</td>\n",
       "    </tr>\n",
       "    <tr>\n",
       "      <th>4</th>\n",
       "      <td>19104235280</td>\n",
       "      <td>neutral</td>\n",
       "    </tr>\n",
       "  </tbody>\n",
       "</table>\n",
       "</div>"
      ],
      "text/plain": [
       "           uid cssupport\n",
       "0  19101063480  opponent\n",
       "1  19101122779   neutral\n",
       "2  19101930697   neutral\n",
       "3  19102226061   neutral\n",
       "4  19104235280   neutral"
      ]
     },
     "execution_count": 5,
     "metadata": {},
     "output_type": "execute_result"
    }
   ],
   "source": [
    "with conProject:\n",
    "    cur = conProject.cursor()\n",
    "    cur.execute(\"\"\"select uid, CASE max(local_schools__good, local_schools__fair, local_schools__poor)\n",
    "          WHEN local_schools__good      THEN 'supporter'\n",
    "          WHEN local_schools__fair     THEN 'neutral'\n",
    "          WHEN local_schools__poor    THEN 'opponent'\n",
    "          END AS cssupport from model_probabilities\"\"\")\n",
    "    uid_support = cur.fetchall()\n",
    "cs = pd.DataFrame(uid_support,columns = ['uid','cssupport']).dropna()\n",
    "cs.head()"
   ]
  },
  {
   "cell_type": "code",
   "execution_count": 45,
   "metadata": {
    "collapsed": false
   },
   "outputs": [
    {
     "data": {
      "text/html": [
       "<div>\n",
       "<table border=\"1\" class=\"dataframe\">\n",
       "  <thead>\n",
       "    <tr style=\"text-align: right;\">\n",
       "      <th></th>\n",
       "      <th>uid</th>\n",
       "      <th>key</th>\n",
       "    </tr>\n",
       "    <tr>\n",
       "      <th>cssupport</th>\n",
       "      <th></th>\n",
       "      <th></th>\n",
       "    </tr>\n",
       "  </thead>\n",
       "  <tbody>\n",
       "    <tr>\n",
       "      <th>neutral</th>\n",
       "      <td>384056</td>\n",
       "      <td>384056</td>\n",
       "    </tr>\n",
       "    <tr>\n",
       "      <th>supporter</th>\n",
       "      <td>3659</td>\n",
       "      <td>3659</td>\n",
       "    </tr>\n",
       "  </tbody>\n",
       "</table>\n",
       "</div>"
      ],
      "text/plain": [
       "              uid     key\n",
       "cssupport                \n",
       "neutral    384056  384056\n",
       "supporter    3659    3659"
      ]
     },
     "execution_count": 45,
     "metadata": {},
     "output_type": "execute_result"
    }
   ],
   "source": [
    "pd.merge(cs, support, on='uid').groupby('cssupport').count()"
   ]
  },
  {
   "cell_type": "code",
   "execution_count": 46,
   "metadata": {
    "collapsed": false
   },
   "outputs": [
    {
     "data": {
      "text/html": [
       "<div>\n",
       "<table border=\"1\" class=\"dataframe\">\n",
       "  <thead>\n",
       "    <tr style=\"text-align: right;\">\n",
       "      <th></th>\n",
       "      <th>uid</th>\n",
       "      <th>key</th>\n",
       "    </tr>\n",
       "    <tr>\n",
       "      <th>cssupport</th>\n",
       "      <th></th>\n",
       "      <th></th>\n",
       "    </tr>\n",
       "  </thead>\n",
       "  <tbody>\n",
       "    <tr>\n",
       "      <th>neutral</th>\n",
       "      <td>298669</td>\n",
       "      <td>298669</td>\n",
       "    </tr>\n",
       "    <tr>\n",
       "      <th>supporter</th>\n",
       "      <td>3362</td>\n",
       "      <td>3362</td>\n",
       "    </tr>\n",
       "  </tbody>\n",
       "</table>\n",
       "</div>"
      ],
      "text/plain": [
       "              uid     key\n",
       "cssupport                \n",
       "neutral    298669  298669\n",
       "supporter    3362    3362"
      ]
     },
     "execution_count": 46,
     "metadata": {},
     "output_type": "execute_result"
    }
   ],
   "source": [
    "pd.merge(cs, support2, on='uid').groupby('cssupport').count()"
   ]
  },
  {
   "cell_type": "code",
   "execution_count": 50,
   "metadata": {
    "collapsed": false
   },
   "outputs": [
    {
     "data": {
      "text/html": [
       "<div>\n",
       "<table border=\"1\" class=\"dataframe\">\n",
       "  <thead>\n",
       "    <tr style=\"text-align: right;\">\n",
       "      <th></th>\n",
       "      <th>uid</th>\n",
       "      <th>ideology</th>\n",
       "    </tr>\n",
       "  </thead>\n",
       "  <tbody>\n",
       "    <tr>\n",
       "      <th>0</th>\n",
       "      <td>19101063480</td>\n",
       "      <td>conservative</td>\n",
       "    </tr>\n",
       "    <tr>\n",
       "      <th>1</th>\n",
       "      <td>19101122779</td>\n",
       "      <td>liberal</td>\n",
       "    </tr>\n",
       "    <tr>\n",
       "      <th>2</th>\n",
       "      <td>19101930697</td>\n",
       "      <td>progressive</td>\n",
       "    </tr>\n",
       "    <tr>\n",
       "      <th>3</th>\n",
       "      <td>19102226061</td>\n",
       "      <td>moderate</td>\n",
       "    </tr>\n",
       "    <tr>\n",
       "      <th>4</th>\n",
       "      <td>19104235280</td>\n",
       "      <td>moderate</td>\n",
       "    </tr>\n",
       "  </tbody>\n",
       "</table>\n",
       "</div>"
      ],
      "text/plain": [
       "           uid      ideology\n",
       "0  19101063480  conservative\n",
       "1  19101122779       liberal\n",
       "2  19101930697   progressive\n",
       "3  19102226061      moderate\n",
       "4  19104235280      moderate"
      ]
     },
     "execution_count": 50,
     "metadata": {},
     "output_type": "execute_result"
    }
   ],
   "source": [
    "with conProject:\n",
    "    cur = conProject.cursor()\n",
    "    cur.execute(\"\"\"select uid, CASE max(ideology__conservative, ideology__liberal, ideology__moderate, ideology__progressive)\n",
    "          WHEN ideology__conservative      THEN 'conservative'\n",
    "          WHEN ideology__liberal     THEN 'liberal'\n",
    "          WHEN ideology__moderate    THEN 'moderate'\n",
    "          WHEN ideology__progressive      THEN 'progressive'\n",
    "          END AS ideology from model_probabilities\"\"\")\n",
    "    ideology = cur.fetchall()\n",
    "ideology_df = pd.DataFrame(ideology,columns = ['uid','ideology']).dropna()\n",
    "ideology_df.head()"
   ]
  },
  {
   "cell_type": "code",
   "execution_count": 57,
   "metadata": {
    "collapsed": false
   },
   "outputs": [
    {
     "data": {
      "text/plain": [
       "ideology\n",
       "conservative    0.003953\n",
       "liberal         0.473534\n",
       "moderate        0.106363\n",
       "progressive     0.416149\n",
       "Name: uid, dtype: float64"
      ]
     },
     "execution_count": 57,
     "metadata": {},
     "output_type": "execute_result"
    }
   ],
   "source": [
    "pd.merge(ideology_df, support2, on='uid').groupby('ideology').count()['uid']/pd.merge(ideology_df, support2, on='uid').groupby('ideology').count()['uid'].sum()"
   ]
  },
  {
   "cell_type": "code",
   "execution_count": 56,
   "metadata": {
    "collapsed": false
   },
   "outputs": [
    {
     "data": {
      "text/plain": [
       "ideology\n",
       "conservative    0.022021\n",
       "liberal         0.439413\n",
       "moderate        0.167177\n",
       "progressive     0.371389\n",
       "Name: uid, dtype: float64"
      ]
     },
     "execution_count": 56,
     "metadata": {},
     "output_type": "execute_result"
    }
   ],
   "source": [
    "pd.merge(ideology_df, support, on='uid').groupby('ideology').count()['uid']/pd.merge(ideology_df, support, on='uid').groupby('ideology').count()['uid'].sum()"
   ]
  },
  {
   "cell_type": "code",
   "execution_count": null,
   "metadata": {
    "collapsed": true
   },
   "outputs": [],
   "source": []
  },
  {
   "cell_type": "markdown",
   "metadata": {},
   "source": [
    "Slide 3: No-Contact listWe have a list of members of teachers unions, who we want to avoid contacting, but the list contains only partial profiles. Match across the appropriate datasets to generate a final listof no-contact individuals and no-contact households. Then give a demographic overview of the no-contact list. "
   ]
  },
  {
   "cell_type": "code",
   "execution_count": 58,
   "metadata": {
    "collapsed": false
   },
   "outputs": [
    {
     "data": {
      "text/plain": [
       "11022"
      ]
     },
     "execution_count": 58,
     "metadata": {},
     "output_type": "execute_result"
    }
   ],
   "source": [
    "with conProject:\n",
    "    cur = conProject.cursor()\n",
    "    cur.execute(\"\"\"select distinct uid from known_opponents\"\"\")\n",
    "    uid_opp = cur.fetchall()\n",
    "opp = pd.DataFrame(uid_opp,columns = ['uid']).dropna()\n",
    "len(opp)"
   ]
  },
  {
   "cell_type": "code",
   "execution_count": 59,
   "metadata": {
    "collapsed": false
   },
   "outputs": [
    {
     "data": {
      "text/html": [
       "<div>\n",
       "<table border=\"1\" class=\"dataframe\">\n",
       "  <thead>\n",
       "    <tr style=\"text-align: right;\">\n",
       "      <th></th>\n",
       "      <th>uid</th>\n",
       "      <th>key</th>\n",
       "    </tr>\n",
       "  </thead>\n",
       "  <tbody>\n",
       "    <tr>\n",
       "      <th>0</th>\n",
       "      <td>1917882007</td>\n",
       "      <td>19-192264923</td>\n",
       "    </tr>\n",
       "    <tr>\n",
       "      <th>1</th>\n",
       "      <td>19146194214</td>\n",
       "      <td>19-192264982</td>\n",
       "    </tr>\n",
       "    <tr>\n",
       "      <th>2</th>\n",
       "      <td>19524839782</td>\n",
       "      <td>19-192256997</td>\n",
       "    </tr>\n",
       "    <tr>\n",
       "      <th>3</th>\n",
       "      <td>19414232160</td>\n",
       "      <td>19-192256670</td>\n",
       "    </tr>\n",
       "    <tr>\n",
       "      <th>4</th>\n",
       "      <td>19526900053</td>\n",
       "      <td>19-192256655</td>\n",
       "    </tr>\n",
       "  </tbody>\n",
       "</table>\n",
       "</div>"
      ],
      "text/plain": [
       "           uid           key\n",
       "0   1917882007  19-192264923\n",
       "1  19146194214  19-192264982\n",
       "2  19524839782  19-192256997\n",
       "3  19414232160  19-192256670\n",
       "4  19526900053  19-192256655"
      ]
     },
     "execution_count": 59,
     "metadata": {},
     "output_type": "execute_result"
    }
   ],
   "source": [
    "with conProject:\n",
    "    cur = conProject.cursor()\n",
    "    cur.execute(\"\"\"select distinct uid, household_key from uid_to_household_key\n",
    "    where uid in\n",
    "    (select uid from \n",
    "        (select model_probabilities.uid, CASE max(local_schools__good, local_schools__fair, local_schools__poor)\n",
    "          WHEN local_schools__good      THEN 'supporter'\n",
    "          WHEN local_schools__fair     THEN 'neutral'\n",
    "          WHEN local_schools__poor    THEN 'opponent'\n",
    "          END AS cssupport from model_probabilities\n",
    "          WHERE cssupport = 'opponent')\n",
    "          UNION \n",
    "        select uid from known_opponents)\"\"\")\n",
    "    uid_opp = cur.fetchall()\n",
    "opp = pd.DataFrame(uid_opp,columns = ['uid','key']).dropna()\n",
    "opp.head()"
   ]
  },
  {
   "cell_type": "code",
   "execution_count": 60,
   "metadata": {
    "collapsed": false
   },
   "outputs": [
    {
     "data": {
      "text/plain": [
       "uid    31985\n",
       "dtype: int64"
      ]
     },
     "execution_count": 60,
     "metadata": {},
     "output_type": "execute_result"
    }
   ],
   "source": [
    "opp.groupby('key').count().count()"
   ]
  },
  {
   "cell_type": "code",
   "execution_count": 61,
   "metadata": {
    "collapsed": false
   },
   "outputs": [
    {
     "data": {
      "text/html": [
       "<div>\n",
       "<table border=\"1\" class=\"dataframe\">\n",
       "  <thead>\n",
       "    <tr style=\"text-align: right;\">\n",
       "      <th></th>\n",
       "      <th>uid</th>\n",
       "      <th>prob</th>\n",
       "      <th>cssupport</th>\n",
       "    </tr>\n",
       "  </thead>\n",
       "  <tbody>\n",
       "    <tr>\n",
       "      <th>0</th>\n",
       "      <td>19101063480</td>\n",
       "      <td>0.513550</td>\n",
       "      <td>opponent</td>\n",
       "    </tr>\n",
       "    <tr>\n",
       "      <th>1</th>\n",
       "      <td>19112162162</td>\n",
       "      <td>0.467229</td>\n",
       "      <td>opponent</td>\n",
       "    </tr>\n",
       "    <tr>\n",
       "      <th>2</th>\n",
       "      <td>19117554956</td>\n",
       "      <td>0.557661</td>\n",
       "      <td>opponent</td>\n",
       "    </tr>\n",
       "    <tr>\n",
       "      <th>3</th>\n",
       "      <td>1911986873</td>\n",
       "      <td>0.413936</td>\n",
       "      <td>opponent</td>\n",
       "    </tr>\n",
       "    <tr>\n",
       "      <th>4</th>\n",
       "      <td>19120290600</td>\n",
       "      <td>0.390649</td>\n",
       "      <td>opponent</td>\n",
       "    </tr>\n",
       "  </tbody>\n",
       "</table>\n",
       "</div>"
      ],
      "text/plain": [
       "           uid      prob cssupport\n",
       "0  19101063480  0.513550  opponent\n",
       "1  19112162162  0.467229  opponent\n",
       "2  19117554956  0.557661  opponent\n",
       "3   1911986873  0.413936  opponent\n",
       "4  19120290600  0.390649  opponent"
      ]
     },
     "execution_count": 61,
     "metadata": {},
     "output_type": "execute_result"
    }
   ],
   "source": [
    "with conProject:\n",
    "    cur = conProject.cursor()\n",
    "    cur.execute(\"\"\"select model_probabilities.uid, local_schools__poor,CASE max(local_schools__good, local_schools__fair, local_schools__poor)\n",
    "          WHEN local_schools__good      THEN 'supporter'\n",
    "          WHEN local_schools__fair     THEN 'neutral'\n",
    "          WHEN local_schools__poor    THEN 'opponent'\n",
    "          END AS cssupport from model_probabilities\n",
    "          WHERE cssupport = 'opponent'\"\"\")\n",
    "    uid_opp = cur.fetchall()\n",
    "opp = pd.DataFrame(uid_opp,columns = ['uid','prob','cssupport']).dropna()\n",
    "opp.head()"
   ]
  },
  {
   "cell_type": "code",
   "execution_count": 62,
   "metadata": {
    "collapsed": false
   },
   "outputs": [
    {
     "data": {
      "text/plain": [
       "<matplotlib.axes._subplots.AxesSubplot at 0x50766a1b70>"
      ]
     },
     "execution_count": 62,
     "metadata": {},
     "output_type": "execute_result"
    },
    {
     "data": {
      "image/png": "[encoded data removed]",
      "text/plain": [
       "<matplotlib.figure.Figure at 0x507669b400>"
      ]
     },
     "metadata": {},
     "output_type": "display_data"
    }
   ],
   "source": [
    "opp['prob'].hist()"
   ]
  },
  {
   "cell_type": "code",
   "execution_count": 63,
   "metadata": {
    "collapsed": false
   },
   "outputs": [
    {
     "data": {
      "text/html": [
       "<div>\n",
       "<table border=\"1\" class=\"dataframe\">\n",
       "  <thead>\n",
       "    <tr style=\"text-align: right;\">\n",
       "      <th></th>\n",
       "      <th>uid</th>\n",
       "      <th>age</th>\n",
       "      <th>income</th>\n",
       "      <th>party</th>\n",
       "    </tr>\n",
       "  </thead>\n",
       "  <tbody>\n",
       "    <tr>\n",
       "      <th>0</th>\n",
       "      <td>19527796454</td>\n",
       "      <td>27.0</td>\n",
       "      <td>160770</td>\n",
       "      <td>R</td>\n",
       "    </tr>\n",
       "    <tr>\n",
       "      <th>1</th>\n",
       "      <td>19526113717</td>\n",
       "      <td>61.0</td>\n",
       "      <td>160770</td>\n",
       "      <td>R</td>\n",
       "    </tr>\n",
       "    <tr>\n",
       "      <th>2</th>\n",
       "      <td>19525237452</td>\n",
       "      <td>27.0</td>\n",
       "      <td>177682</td>\n",
       "      <td>R</td>\n",
       "    </tr>\n",
       "    <tr>\n",
       "      <th>3</th>\n",
       "      <td>19526044160</td>\n",
       "      <td>57.0</td>\n",
       "      <td>177682</td>\n",
       "      <td>R</td>\n",
       "    </tr>\n",
       "    <tr>\n",
       "      <th>4</th>\n",
       "      <td>19524446329</td>\n",
       "      <td>39.0</td>\n",
       "      <td>177682</td>\n",
       "      <td>R</td>\n",
       "    </tr>\n",
       "  </tbody>\n",
       "</table>\n",
       "</div>"
      ],
      "text/plain": [
       "           uid   age  income party\n",
       "0  19527796454  27.0  160770     R\n",
       "1  19526113717  61.0  160770     R\n",
       "2  19525237452  27.0  177682     R\n",
       "3  19526044160  57.0  177682     R\n",
       "4  19524446329  39.0  177682     R"
      ]
     },
     "execution_count": 63,
     "metadata": {},
     "output_type": "execute_result"
    }
   ],
   "source": [
    "with conProject:\n",
    "    cur = conProject.cursor()\n",
    "    cur.execute(\"\"\"select uid,age,avgincome,party from voter_file where uid in \n",
    "    (select uid from \n",
    "        (select model_probabilities.uid, CASE max(local_schools__good, local_schools__fair, local_schools__poor)\n",
    "          WHEN local_schools__good      THEN 'supporter'\n",
    "          WHEN local_schools__fair     THEN 'neutral'\n",
    "          WHEN local_schools__poor    THEN 'opponent'\n",
    "          END AS cssupport from model_probabilities\n",
    "          WHERE cssupport = 'opponent')\n",
    "          UNION \n",
    "        select uid from known_opponents)\"\"\")\n",
    "    uid_opp = cur.fetchall()\n",
    "opp = pd.DataFrame(uid_opp,columns = ['uid','age','income','party']).dropna()\n",
    "opp.head()"
   ]
  },
  {
   "cell_type": "code",
   "execution_count": 64,
   "metadata": {
    "collapsed": false
   },
   "outputs": [
    {
     "data": {
      "text/html": [
       "<div>\n",
       "<table border=\"1\" class=\"dataframe\">\n",
       "  <thead>\n",
       "    <tr style=\"text-align: right;\">\n",
       "      <th></th>\n",
       "      <th>uid</th>\n",
       "      <th>age</th>\n",
       "      <th>income</th>\n",
       "    </tr>\n",
       "    <tr>\n",
       "      <th>party</th>\n",
       "      <th></th>\n",
       "      <th></th>\n",
       "      <th></th>\n",
       "    </tr>\n",
       "  </thead>\n",
       "  <tbody>\n",
       "    <tr>\n",
       "      <th>AI</th>\n",
       "      <td>760</td>\n",
       "      <td>760</td>\n",
       "      <td>760</td>\n",
       "    </tr>\n",
       "    <tr>\n",
       "      <th>D</th>\n",
       "      <td>4473</td>\n",
       "      <td>4473</td>\n",
       "      <td>4473</td>\n",
       "    </tr>\n",
       "    <tr>\n",
       "      <th>DS</th>\n",
       "      <td>7319</td>\n",
       "      <td>7319</td>\n",
       "      <td>7319</td>\n",
       "    </tr>\n",
       "    <tr>\n",
       "      <th>GR</th>\n",
       "      <td>69</td>\n",
       "      <td>69</td>\n",
       "      <td>69</td>\n",
       "    </tr>\n",
       "    <tr>\n",
       "      <th>LI</th>\n",
       "      <td>163</td>\n",
       "      <td>163</td>\n",
       "      <td>163</td>\n",
       "    </tr>\n",
       "    <tr>\n",
       "      <th>NL</th>\n",
       "      <td>7</td>\n",
       "      <td>7</td>\n",
       "      <td>7</td>\n",
       "    </tr>\n",
       "    <tr>\n",
       "      <th>PF</th>\n",
       "      <td>30</td>\n",
       "      <td>30</td>\n",
       "      <td>30</td>\n",
       "    </tr>\n",
       "    <tr>\n",
       "      <th>R</th>\n",
       "      <td>32446</td>\n",
       "      <td>32446</td>\n",
       "      <td>32446</td>\n",
       "    </tr>\n",
       "    <tr>\n",
       "      <th>YY</th>\n",
       "      <td>353</td>\n",
       "      <td>353</td>\n",
       "      <td>353</td>\n",
       "    </tr>\n",
       "  </tbody>\n",
       "</table>\n",
       "</div>"
      ],
      "text/plain": [
       "         uid    age  income\n",
       "party                      \n",
       "AI       760    760     760\n",
       "D       4473   4473    4473\n",
       "DS      7319   7319    7319\n",
       "GR        69     69      69\n",
       "LI       163    163     163\n",
       "NL         7      7       7\n",
       "PF        30     30      30\n",
       "R      32446  32446   32446\n",
       "YY       353    353     353"
      ]
     },
     "execution_count": 64,
     "metadata": {},
     "output_type": "execute_result"
    }
   ],
   "source": [
    "opp.groupby('party').count()"
   ]
  },
  {
   "cell_type": "code",
   "execution_count": 65,
   "metadata": {
    "collapsed": false
   },
   "outputs": [],
   "source": [
    "count, division = np.histogram(opp['income'],bins = [0,50000,100000,150000,200000,250000,300000,350000,400000,450000,500000,550000,600000])"
   ]
  },
  {
   "cell_type": "code",
   "execution_count": 66,
   "metadata": {
    "collapsed": false
   },
   "outputs": [],
   "source": [
    "count, division = np.histogram(opp['age'],bins = [0,20,40,60,80,100])"
   ]
  },
  {
   "cell_type": "code",
   "execution_count": null,
   "metadata": {
    "collapsed": true
   },
   "outputs": [],
   "source": []
  },
  {
   "cell_type": "code",
   "execution_count": null,
   "metadata": {
    "collapsed": true
   },
   "outputs": [],
   "source": []
  }
 ],
 "metadata": {
  "anaconda-cloud": {},
  "kernelspec": {
   "display_name": "Python [default]",
   "language": "python",
   "name": "python3"
  },
  "language_info": {
   "codemirror_mode": {
    "name": "ipython",
    "version": 3
   },
   "file_extension": ".py",
   "mimetype": "text/x-python",
   "name": "python",
   "nbconvert_exporter": "python",
   "pygments_lexer": "ipython3",
   "version": "3.5.2"
  }
 },
 "nbformat": 4,
 "nbformat_minor": 1
}
