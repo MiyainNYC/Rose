{
 "cells": [
  {
   "cell_type": "code",
   "execution_count": 1,
   "metadata": {
    "collapsed": false
   },
   "outputs": [],
   "source": [
    "import pystan"
   ]
  },
  {
   "cell_type": "code",
   "execution_count": 2,
   "metadata": {
    "collapsed": false
   },
   "outputs": [
    {
     "data": {
      "text/plain": [
       "'2.16.0.0'"
      ]
     },
     "execution_count": 2,
     "metadata": {},
     "output_type": "execute_result"
    }
   ],
   "source": [
    "pystan.__version__"
   ]
  },
  {
   "cell_type": "code",
   "execution_count": 5,
   "metadata": {
    "collapsed": false
   },
   "outputs": [
    {
     "name": "stderr",
     "output_type": "stream",
     "text": [
      "INFO:pystan:COMPILING THE C++ CODE FOR MODEL anon_model_5944b02c79788fa0db5b3a93728ca2bf NOW.\n"
     ]
    }
   ],
   "source": [
    "model_code = 'parameters {real y;} model {y ~ normal(0,1);}'\n",
    "model = pystan.StanModel(model_code=model_code)\n",
    "y = model.sampling(n_jobs=1).extract()['y']"
   ]
  },
  {
   "cell_type": "code",
   "execution_count": 6,
   "metadata": {
    "collapsed": false
   },
   "outputs": [
    {
     "data": {
      "text/plain": [
       "-0.061807489301729315"
      ]
     },
     "execution_count": 6,
     "metadata": {},
     "output_type": "execute_result"
    }
   ],
   "source": [
    "y.mean()"
   ]
  },
  {
   "cell_type": "code",
   "execution_count": null,
   "metadata": {
    "collapsed": true
   },
   "outputs": [],
   "source": [
    "import pystan\n",
    "import stan_utility\n",
    "import matplotlib\n",
    "import matplotlib.pyplot as plot\n",
    "\n",
    "##################################################\n",
    "##### Simulate data and write to file\n",
    "##################################################\n",
    "\n",
    "model = stan_utility.compile_model('gen_data.stan')\n",
    "fit = model.sampling(seed=194838, algorithm='Fixed_param', iter=1, chains=1)\n",
    "\n",
    "data = dict(N = 25, M = 3,\n",
    "            X=fit.extract()['X'][0,:,:], y = fit.extract()['y'][0,:])\n",
    "\n",
    "pystan.stan_rdump(data, 'lin_regr.data.R')\n",
    "\n",
    "##################################################\n",
    "##### Fit model and check diagnostics\n",
    "##################################################\n",
    "\n",
    "# Read in data from Rdump file\n",
    "data = pystan.read_rdump('lin_regr.data.R')\n",
    "\n",
    "# Fit posterior with Stan\n",
    "model = stan_utility.compile_model('lin_regr.stan')\n",
    "fit = model.sampling(data=data, seed=194838)\n",
    "\n",
    "# Check sampler diagnostics\n",
    "print(fit)\n",
    "\n",
    "sampler_params = fit.get_sampler_params(inc_warmup=False)\n",
    "stan_utility.check_div(sampler_params)\n",
    "stan_utility.check_treedepth(sampler_params)\n",
    "stan_utility.check_energy(sampler_params)\n",
    "\n",
    "# Check visual diagnostics\n",
    "fit.plot()\n",
    "plot.show()\n",
    "\n",
    "##################################################\n",
    "##### Visualize posterior\n",
    "##################################################\n",
    "\n",
    "light=\"#DCBCBC\"\n",
    "light_highlight=\"#C79999\"\n",
    "mid=\"#B97C7C\"\n",
    "mid_highlight=\"#A25050\"\n",
    "dark=\"#8F2727\"\n",
    "dark_highlight=\"#7C0000\"\n",
    "\n",
    "# Plot parameter posteriors\n",
    "params = fit.extract()\n",
    "\n",
    "f, axarr = plot.subplots(2, 3)\n",
    "for a in axarr[0,:]:\n",
    "    a.xaxis.set_ticks_position('bottom')\n",
    "    a.yaxis.set_ticks_position('none')\n",
    "for a in axarr[1,:]:\n",
    "    a.xaxis.set_ticks_position('bottom')\n",
    "    a.yaxis.set_ticks_position('none')\n",
    "\n",
    "axarr[0, 0].set_title(\"beta_1\")\n",
    "axarr[0, 0].hist(params['beta'][:,0], bins = 25, color = dark, ec = dark_highlight)\n",
    "axarr[0, 0].axvline(x=5, linewidth=2, color=light)\n",
    "\n",
    "axarr[0, 1].set_title(\"beta_2\")\n",
    "axarr[0, 1].hist(params['beta'][:,1], bins = 25, color = dark, ec = dark_highlight)\n",
    "axarr[0, 1].axvline(x=-3, linewidth=2, color=light)\n",
    "\n",
    "axarr[0, 2].set_title(\"beta_3\")\n",
    "axarr[0, 2].hist(params['beta'][:,2], bins = 25, color = dark, ec = dark_highlight)\n",
    "axarr[0, 2].axvline(x=2, linewidth=2, color=light)\n",
    "\n",
    "axarr[1, 0].set_title(\"alpha\")\n",
    "axarr[1, 0].hist(params['alpha'], bins = 25, color = dark, ec = dark_highlight)\n",
    "axarr[1, 0].axvline(x=10, linewidth=2, color=light)\n",
    "\n",
    "axarr[1, 1].set_title(\"sigma\")\n",
    "axarr[1, 1].hist(params['sigma'], bins = 25, color = dark, ec = dark_highlight)\n",
    "axarr[1, 1].axvline(x=1, linewidth=2, color=light)\n",
    "\n",
    "plot.show()\n",
    "\n",
    "# Perform a posterior predictive check by plotting\n",
    "# posterior predictive distributions against data\n",
    "f, axarr = plot.subplots(2, 2)\n",
    "for a in axarr[0,:]:\n",
    "    a.xaxis.set_ticks_position('bottom')\n",
    "    a.yaxis.set_ticks_position('none')\n",
    "for a in axarr[1,:]:\n",
    "    a.xaxis.set_ticks_position('bottom')\n",
    "    a.yaxis.set_ticks_position('none')\n",
    "\n",
    "axarr[0, 0].set_title(\"y_1\")\n",
    "axarr[0, 0].hist(params['y_ppc'][:,0], bins = 25, color = dark, ec = dark_highlight)\n",
    "axarr[0, 0].axvline(x=data['y'][0], linewidth=2, color=light)\n",
    "\n",
    "axarr[0, 1].set_title(\"y_5\")\n",
    "axarr[0, 1].hist(params['y_ppc'][:,4], bins = 25, color = dark, ec = dark_highlight)\n",
    "axarr[0, 1].axvline(x=data['y'][4], linewidth=2, color=light)\n",
    "\n",
    "axarr[1, 0].set_title(\"y_10\")\n",
    "axarr[1, 0].hist(params['y_ppc'][:,9], bins = 25, color = dark, ec = dark_highlight)\n",
    "axarr[1, 0].axvline(x=data['y'][9], linewidth=2, color=light)\n",
    "\n",
    "axarr[1, 1].set_title(\"y_15\")\n",
    "axarr[1, 1].hist(params['y_ppc'][:,14], bins = 25, color = dark, ec = dark_highlight)\n",
    "axarr[1, 1].axvline(x=data['y'][14], linewidth=2, color=light)\n",
    "\n",
    "plot.show()\n"
   ]
  }
 ],
 "metadata": {
  "anaconda-cloud": {},
  "kernelspec": {
   "display_name": "Python [default]",
   "language": "python",
   "name": "python3"
  },
  "language_info": {
   "codemirror_mode": {
    "name": "ipython",
    "version": 3
   },
   "file_extension": ".py",
   "mimetype": "text/x-python",
   "name": "python",
   "nbconvert_exporter": "python",
   "pygments_lexer": "ipython3",
   "version": "3.5.2"
  }
 },
 "nbformat": 4,
 "nbformat_minor": 1
}
