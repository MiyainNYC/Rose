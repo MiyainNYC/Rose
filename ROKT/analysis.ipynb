{
 "cells": [
  {
   "cell_type": "code",
   "execution_count": 90,
   "metadata": {
    "collapsed": true
   },
   "outputs": [],
   "source": [
    "import pandas as pd\n",
    "import matplotlib.pyplot as plt\n",
    "% matplotlib inline"
   ]
  },
  {
   "cell_type": "code",
   "execution_count": 3,
   "metadata": {
    "collapsed": false
   },
   "outputs": [],
   "source": [
    "xls = pd.ExcelFile('Adventure Works Data.xlsx')"
   ]
  },
  {
   "cell_type": "code",
   "execution_count": 7,
   "metadata": {
    "collapsed": false
   },
   "outputs": [],
   "source": [
    "employeeHR = xls.parse(0)\n",
    "BusinessEntityaddress = xls.parse(1)\n",
    "salesperson = xls.parse(2)\n",
    "contact = xls.parse(3)\n",
    "employeePay = xls.parse(4)\n",
    "address = xls.parse(5)"
   ]
  },
  {
   "cell_type": "code",
   "execution_count": 250,
   "metadata": {
    "collapsed": false
   },
   "outputs": [
    {
     "data": {
      "text/plain": [
       "Index(['Birth Date', 'Business Entity ID', 'Current Flag', 'Gender',\n",
       "       'Hire Date', 'Job Title', 'Login ID', 'Marital Status', 'Modified Date',\n",
       "       'National ID Number', 'Organization Node', 'Rowguid', 'Salaried Flag',\n",
       "       'Number of Records', 'Organization Level', 'Sick Leave Hours',\n",
       "       'Vacation Hours'],\n",
       "      dtype='object')"
      ]
     },
     "execution_count": 250,
     "metadata": {},
     "output_type": "execute_result"
    }
   ],
   "source": [
    "employeeHR.columns"
   ]
  },
  {
   "cell_type": "code",
   "execution_count": 251,
   "metadata": {
    "collapsed": false
   },
   "outputs": [
    {
     "data": {
      "text/plain": [
       "Index(['Additional Contact Info', 'Business Entity ID', 'First Name',\n",
       "       'Last Name', 'Middle Name', 'ModifiedDate (Person)', 'Name Style',\n",
       "       'rowguid (Person)', 'Suffix', 'Title', 'Email Promotion'],\n",
       "      dtype='object')"
      ]
     },
     "execution_count": 251,
     "metadata": {},
     "output_type": "execute_result"
    }
   ],
   "source": [
    "contact.columns"
   ]
  },
  {
   "cell_type": "code",
   "execution_count": 252,
   "metadata": {
    "collapsed": false
   },
   "outputs": [
    {
     "data": {
      "text/plain": [
       "Index(['Business Entity ID', 'Modified Date', 'Rate Change Date',\n",
       "       'Number of Records', 'Pay Frequency', 'Rate'],\n",
       "      dtype='object')"
      ]
     },
     "execution_count": 252,
     "metadata": {},
     "output_type": "execute_result"
    }
   ],
   "source": [
    "employeePay.columns"
   ]
  },
  {
   "cell_type": "code",
   "execution_count": 236,
   "metadata": {
    "collapsed": false
   },
   "outputs": [
    {
     "data": {
      "text/plain": [
       "(17, 10)"
      ]
     },
     "execution_count": 236,
     "metadata": {},
     "output_type": "execute_result"
    }
   ],
   "source": [
    "salesperson.shape"
   ]
  },
  {
   "cell_type": "code",
   "execution_count": 22,
   "metadata": {
    "collapsed": true
   },
   "outputs": [],
   "source": [
    "contact.columns = ['Additional Contact Info', 'Business Entity ID', 'First Name',\n",
    "       'Last Name', 'Middle Name', 'ModifiedDate (Person)', 'Name Style',\n",
    "       'rowguid (Person)', 'Suffix', 'Title', 'Email Promotion']"
   ]
  },
  {
   "cell_type": "code",
   "execution_count": 259,
   "metadata": {
    "collapsed": false
   },
   "outputs": [
    {
     "data": {
      "text/plain": [
       "(290, 41)"
      ]
     },
     "execution_count": 259,
     "metadata": {},
     "output_type": "execute_result"
    }
   ],
   "source": [
    "dfmerged = employeeHR.merge(employeePay,on = 'Business Entity ID', \n",
    "                            how='outer'\n",
    "                           ).merge(contact,on = 'Business Entity ID',\n",
    "                                   how='outer'\n",
    "                                  ).merge(salesperson,on = 'Business Entity ID',\n",
    "                                          how='outer')\n",
    "dfmerged = dfmerged.reindex_axis(sorted(dfmerged.columns), axis=1)\n",
    "dfmerged.shape"
   ]
  },
  {
   "cell_type": "code",
   "execution_count": 234,
   "metadata": {
    "collapsed": false
   },
   "outputs": [
    {
     "data": {
      "text/html": [
       "<div>\n",
       "<table border=\"1\" class=\"dataframe\">\n",
       "  <thead>\n",
       "    <tr style=\"text-align: right;\">\n",
       "      <th></th>\n",
       "      <th>Business Entity ID</th>\n",
       "      <th>Job Title</th>\n",
       "      <th>Rate</th>\n",
       "      <th>Bonus</th>\n",
       "      <th>Sales Quota</th>\n",
       "      <th>Sales Last Year</th>\n",
       "      <th>Name</th>\n",
       "    </tr>\n",
       "  </thead>\n",
       "  <tbody>\n",
       "    <tr>\n",
       "      <th>0</th>\n",
       "      <td>1.0</td>\n",
       "      <td>Chief Executive Officer</td>\n",
       "      <td>125.5000</td>\n",
       "      <td>NaN</td>\n",
       "      <td>NaN</td>\n",
       "      <td>NaN</td>\n",
       "      <td>Ken Sánchez</td>\n",
       "    </tr>\n",
       "    <tr>\n",
       "      <th>26</th>\n",
       "      <td>25.0</td>\n",
       "      <td>Vice President of Production</td>\n",
       "      <td>84.1346</td>\n",
       "      <td>NaN</td>\n",
       "      <td>NaN</td>\n",
       "      <td>NaN</td>\n",
       "      <td>James Hamilton</td>\n",
       "    </tr>\n",
       "    <tr>\n",
       "      <th>288</th>\n",
       "      <td>273.0</td>\n",
       "      <td>Vice President of Sales</td>\n",
       "      <td>72.1154</td>\n",
       "      <td>NaN</td>\n",
       "      <td>NaN</td>\n",
       "      <td>NaN</td>\n",
       "      <td>Brian Welcker</td>\n",
       "    </tr>\n",
       "    <tr>\n",
       "      <th>1</th>\n",
       "      <td>2.0</td>\n",
       "      <td>Vice President of Engineering</td>\n",
       "      <td>63.4615</td>\n",
       "      <td>NaN</td>\n",
       "      <td>NaN</td>\n",
       "      <td>NaN</td>\n",
       "      <td>Terri Duffy</td>\n",
       "    </tr>\n",
       "    <tr>\n",
       "      <th>248</th>\n",
       "      <td>234.0</td>\n",
       "      <td>NaN</td>\n",
       "      <td>60.0962</td>\n",
       "      <td>NaN</td>\n",
       "      <td>NaN</td>\n",
       "      <td>NaN</td>\n",
       "      <td>Laura Norman</td>\n",
       "    </tr>\n",
       "  </tbody>\n",
       "</table>\n",
       "</div>"
      ],
      "text/plain": [
       "     Business Entity ID                      Job Title      Rate  Bonus  \\\n",
       "0                   1.0        Chief Executive Officer  125.5000    NaN   \n",
       "26                 25.0   Vice President of Production   84.1346    NaN   \n",
       "288               273.0        Vice President of Sales   72.1154    NaN   \n",
       "1                   2.0  Vice President of Engineering   63.4615    NaN   \n",
       "248               234.0                            NaN   60.0962    NaN   \n",
       "\n",
       "     Sales Quota  Sales Last Year            Name  \n",
       "0            NaN              NaN     Ken Sánchez  \n",
       "26           NaN              NaN  James Hamilton  \n",
       "288          NaN              NaN   Brian Welcker  \n",
       "1            NaN              NaN     Terri Duffy  \n",
       "248          NaN              NaN    Laura Norman  "
      ]
     },
     "execution_count": 234,
     "metadata": {},
     "output_type": "execute_result"
    }
   ],
   "source": [
    "df_1 = dfmerged[['Business Entity ID', \"Last Name\", \"First Name\", \n",
    "                 \"Job Title\", \"Rate\", \"Bonus\", \"Sales Quota\",\n",
    "                 \"Sales Last Year\"]].sort_values(by = 'Rate',ascending = False)\n",
    "df_1['Name'] = df_1[\"First Name\"]+' '+df_1[\"Last Name\"]\n",
    "df_1.drop(\"First Name\",axis = 1).drop(\"Last Name\",axis = 1).head()"
   ]
  },
  {
   "cell_type": "code",
   "execution_count": 141,
   "metadata": {
    "collapsed": false
   },
   "outputs": [
    {
     "data": {
      "text/plain": [
       "Name                     Ken Sánchez\n",
       "Job Title    Chief Executive Officer\n",
       "Name: 0, dtype: object"
      ]
     },
     "execution_count": 141,
     "metadata": {},
     "output_type": "execute_result"
    }
   ],
   "source": [
    "df_1.sort_values(by = 'Rate',ascending = False).ix[0][['Name','Job Title']]"
   ]
  },
  {
   "cell_type": "code",
   "execution_count": 143,
   "metadata": {
    "collapsed": false
   },
   "outputs": [
    {
     "name": "stdout",
     "output_type": "stream",
     "text": [
      "            Name   Bonus\n",
      "300  Tsvi Reiter  6700.0\n"
     ]
    }
   ],
   "source": [
    "print(df_1.sort_values(by = 'Bonus',ascending = False).dropna(\n",
    "        subset = ['Bonus'])[:1][['Name','Bonus']])"
   ]
  },
  {
   "cell_type": "code",
   "execution_count": 145,
   "metadata": {
    "collapsed": false
   },
   "outputs": [
    {
     "name": "stdout",
     "output_type": "stream",
     "text": [
      "                         Name  Sales Last Year\n",
      "322  Ranjit Varkey Chudukatil     2.396540e+06\n"
     ]
    }
   ],
   "source": [
    "print(df_1.sort_values(by = 'Sales Last Year',ascending = False).dropna(\n",
    "        subset = ['Sales Last Year'])[:1][['Name','Sales Last Year']])"
   ]
  },
  {
   "cell_type": "code",
   "execution_count": 147,
   "metadata": {
    "collapsed": false
   },
   "outputs": [
    {
     "name": "stdout",
     "output_type": "stream",
     "text": [
      "                 Name\n",
      "310  Tete Mensa-Annan\n"
     ]
    }
   ],
   "source": [
    "df_1_a = df_1.dropna(subset = ['Sales Last Year','Sales Quota'])\n",
    "print(df_1_a[df_1_a['Sales Last Year']<df_1_a['Sales Quota']][['Name']])"
   ]
  },
  {
   "cell_type": "code",
   "execution_count": 289,
   "metadata": {
    "collapsed": false
   },
   "outputs": [
    {
     "data": {
      "text/plain": [
       "292    1.450406e+06\n",
       "294    1.189156e+06\n",
       "296    1.747186e+06\n",
       "298    1.370277e+06\n",
       "300    1.549641e+06\n",
       "302    1.677059e+06\n",
       "304    1.823506e+06\n",
       "306    1.788235e+06\n",
       "308    1.121635e+06\n",
       "310   -3.000000e+05\n",
       "314    2.028549e+06\n",
       "318    1.057950e+06\n",
       "320    1.385823e+06\n",
       "322    2.146540e+06\n",
       "dtype: float64"
      ]
     },
     "execution_count": 289,
     "metadata": {},
     "output_type": "execute_result"
    }
   ],
   "source": [
    "df_1_a['Sales Last Year']-df_1_a['Sales Quota']"
   ]
  },
  {
   "cell_type": "code",
   "execution_count": 291,
   "metadata": {
    "collapsed": false
   },
   "outputs": [
    {
     "data": {
      "text/plain": [
       "'Ranjit Varkey Chudukatil'"
      ]
     },
     "execution_count": 291,
     "metadata": {},
     "output_type": "execute_result"
    }
   ],
   "source": [
    "df_1_a.ix[322]['Name']"
   ]
  },
  {
   "cell_type": "code",
   "execution_count": 288,
   "metadata": {
    "collapsed": false
   },
   "outputs": [
    {
     "data": {
      "text/plain": [
       "292    False\n",
       "294    False\n",
       "296    False\n",
       "298    False\n",
       "300    False\n",
       "302    False\n",
       "304    False\n",
       "306    False\n",
       "308    False\n",
       "310    False\n",
       "314    False\n",
       "318    False\n",
       "320    False\n",
       "322     True\n",
       "dtype: bool"
      ]
     },
     "execution_count": 288,
     "metadata": {},
     "output_type": "execute_result"
    }
   ],
   "source": [
    "(df_1_a['Sales Last Year']-df_1_a['Sales Quota'])==2146539.7601000001"
   ]
  },
  {
   "cell_type": "code",
   "execution_count": 148,
   "metadata": {
    "collapsed": false
   },
   "outputs": [
    {
     "data": {
      "text/plain": [
       "count    290.000000\n",
       "mean      18.188257\n",
       "std       12.290579\n",
       "min        9.000000\n",
       "25%       11.000000\n",
       "50%       14.000000\n",
       "75%       23.076900\n",
       "max      125.500000\n",
       "Name: Rate, dtype: float64"
      ]
     },
     "execution_count": 148,
     "metadata": {},
     "output_type": "execute_result"
    }
   ],
   "source": [
    "df_1['Rate'].dropna().describe()"
   ]
  },
  {
   "cell_type": "code",
   "execution_count": 149,
   "metadata": {
    "collapsed": false
   },
   "outputs": [
    {
     "data": {
      "text/plain": [
       "[(9.5, 27)]"
      ]
     },
     "execution_count": 149,
     "metadata": {},
     "output_type": "execute_result"
    }
   ],
   "source": [
    "from collections import Counter\n",
    "Counter(df_1['Rate'].dropna()).most_common(1)"
   ]
  },
  {
   "cell_type": "code",
   "execution_count": 171,
   "metadata": {
    "collapsed": false,
    "scrolled": true
   },
   "outputs": [
    {
     "data": {
      "text/plain": [
       "[('Production Technician - WC40', 26),\n",
       " ('Production Technician - WC50', 26),\n",
       " ('Production Technician - WC60', 26),\n",
       " ('Production Technician - WC30', 25),\n",
       " ('Production Technician - WC20', 22),\n",
       " ('Production Technician - WC10', 17),\n",
       " ('Production Technician - WC45', 15),\n",
       " ('Sales Representative', 14),\n",
       " ('Buyer', 9),\n",
       " ('Marketing Specialist', 5)]"
      ]
     },
     "execution_count": 171,
     "metadata": {},
     "output_type": "execute_result"
    }
   ],
   "source": [
    "Counter(df_1['Job Title'].dropna()).most_common(10)"
   ]
  },
  {
   "cell_type": "code",
   "execution_count": 169,
   "metadata": {
    "collapsed": false
   },
   "outputs": [
    {
     "data": {
      "text/plain": [
       "[(11.0, 26),\n",
       " (12.449999999999999, 26),\n",
       " (15.0, 26),\n",
       " (14.0, 22),\n",
       " (9.5, 17),\n",
       " (13.449999999999999, 17),\n",
       " (10.0, 15)]"
      ]
     },
     "execution_count": 169,
     "metadata": {},
     "output_type": "execute_result"
    }
   ],
   "source": [
    "df_1_b  = df_1.dropna(subset = ['Job Title'])\n",
    "Counter(df_1_b[df_1_b['Job \\\n",
    "Title'].str.contains(\"Production \\\n",
    "Technician\")]['Rate'].dropna()).most_common()"
   ]
  },
  {
   "cell_type": "code",
   "execution_count": 200,
   "metadata": {
    "collapsed": false
   },
   "outputs": [
    {
     "data": {
      "text/html": [
       "<div>\n",
       "<table border=\"1\" class=\"dataframe\">\n",
       "  <thead>\n",
       "    <tr style=\"text-align: right;\">\n",
       "      <th></th>\n",
       "      <th>Sales Quota</th>\n",
       "      <th>Sales Last Year</th>\n",
       "    </tr>\n",
       "  </thead>\n",
       "  <tbody>\n",
       "    <tr>\n",
       "      <th>322</th>\n",
       "      <td>NaN</td>\n",
       "      <td>2.146540e+06</td>\n",
       "    </tr>\n",
       "  </tbody>\n",
       "</table>\n",
       "</div>"
      ],
      "text/plain": [
       "     Sales Quota  Sales Last Year\n",
       "322          NaN     2.146540e+06"
      ]
     },
     "execution_count": 200,
     "metadata": {},
     "output_type": "execute_result"
    }
   ],
   "source": [
    "df_1.dropna(subset = ['Sales Last Year','Sales Quota'])[['Sales Quota','Sales Last Year']].diff(axis = 1).sort_values(by = 'Sales Last Year',ascending  = False)[:1]"
   ]
  },
  {
   "cell_type": "code",
   "execution_count": 202,
   "metadata": {
    "collapsed": false
   },
   "outputs": [
    {
     "data": {
      "text/plain": [
       "'Ranjit Varkey Chudukatil'"
      ]
     },
     "execution_count": 202,
     "metadata": {},
     "output_type": "execute_result"
    }
   ],
   "source": [
    "df_1.ix[322]['Name']"
   ]
  },
  {
   "cell_type": "code",
   "execution_count": 296,
   "metadata": {
    "collapsed": false
   },
   "outputs": [
    {
     "data": {
      "text/plain": [
       "Counter({2000: 1,\n",
       "         2001: 2,\n",
       "         2002: 16,\n",
       "         2003: 198,\n",
       "         2004: 45,\n",
       "         2005: 21,\n",
       "         2006: 4,\n",
       "         2007: 3})"
      ]
     },
     "execution_count": 296,
     "metadata": {},
     "output_type": "execute_result"
    }
   ],
   "source": [
    "dfmerged['Hire Year'] = list(map(lambda x: x.year, dfmerged['Hire Date']))\n",
    "Counter(dfmerged['Hire Year'].dropna())"
   ]
  },
  {
   "cell_type": "code",
   "execution_count": 309,
   "metadata": {
    "collapsed": false
   },
   "outputs": [
    {
     "data": {
      "text/plain": [
       "119"
      ]
     },
     "execution_count": 309,
     "metadata": {},
     "output_type": "execute_result"
    }
   ],
   "source": [
    "26+25+19+18+16+15"
   ]
  },
  {
   "cell_type": "code",
   "execution_count": 111,
   "metadata": {
    "collapsed": false
   },
   "outputs": [
    {
     "data": {
      "text/plain": [
       "[('Production Technician - WC50', 26),\n",
       " ('Production Technician - WC30', 25),\n",
       " ('Production Technician - WC40', 19),\n",
       " ('Production Technician - WC60', 18),\n",
       " ('Production Technician - WC20', 16),\n",
       " ('Production Technician - WC45', 15),\n",
       " ('Marketing Specialist', 4),\n",
       " ('Application Specialist', 4),\n",
       " ('Scheduling Assistant', 4),\n",
       " ('Quality Assurance Technician', 3),\n",
       " ('Production Supervisor - WC40', 3),\n",
       " ('Production Supervisor - WC30', 3),\n",
       " ('Production Supervisor - WC10', 3),\n",
       " ('Accounts Receivable Specialist', 3),\n",
       " ('Stocker', 3),\n",
       " ('Production Supervisor - WC20', 3),\n",
       " ('Production Supervisor - WC45', 3),\n",
       " ('Production Supervisor - WC50', 2),\n",
       " ('Human Resources Administrative Assistant', 2),\n",
       " ('Accounts Payable Specialist', 2),\n",
       " ('Control Specialist', 2),\n",
       " ('Accountant', 2),\n",
       " ('Shipping and Receiving Clerk', 2),\n",
       " ('Recruiter', 2),\n",
       " ('Database Administrator', 2),\n",
       " ('Document Control Assistant', 2),\n",
       " ('Buyer', 2),\n",
       " ('Network Administrator', 2),\n",
       " ('Research and Development Manager', 2),\n",
       " ('Research and Development Engineer', 2),\n",
       " ('Document Control Manager', 1),\n",
       " ('Benefits Specialist', 1),\n",
       " ('Network Manager', 1),\n",
       " ('Assistant to the Chief Financial Officer', 1),\n",
       " ('Information Services Manager', 1),\n",
       " ('Production Control Manager', 1),\n",
       " ('Maintenance Supervisor', 1),\n",
       " ('Shipping and Receiving Supervisor', 1),\n",
       " ('Quality Assurance Manager', 1),\n",
       " ('Chief Executive Officer', 1),\n",
       " ('Accounts Manager', 1),\n",
       " ('Vice President of Production', 1),\n",
       " ('Human Resources Manager', 1),\n",
       " ('Finance Manager', 1),\n",
       " ('Chief Financial Officer', 1),\n",
       " ('Master Scheduler', 1),\n",
       " ('Quality Assurance Supervisor', 1)]"
      ]
     },
     "execution_count": 111,
     "metadata": {},
     "output_type": "execute_result"
    }
   ],
   "source": [
    "Counter(dfmerged[dfmerged['Hire Year']==2003]['Job Title']).most_common()"
   ]
  },
  {
   "cell_type": "code",
   "execution_count": 301,
   "metadata": {
    "collapsed": false
   },
   "outputs": [],
   "source": [
    "df_5 = dfmerged.dropna(subset = ['Hire Year'])"
   ]
  },
  {
   "cell_type": "code",
   "execution_count": 307,
   "metadata": {
    "collapsed": false
   },
   "outputs": [],
   "source": [
    "df_5['Job Title2'] = list(map(lambda x:x.split('-')[0],df_5['Job Title']))"
   ]
  },
  {
   "cell_type": "code",
   "execution_count": 308,
   "metadata": {
    "collapsed": true
   },
   "outputs": [],
   "source": [
    "df_5.to_csv('df_5.csv')"
   ]
  },
  {
   "cell_type": "code",
   "execution_count": 310,
   "metadata": {
    "collapsed": false
   },
   "outputs": [
    {
     "data": {
      "text/plain": [
       "Index(['Additional Contact Info', 'Birth Date', 'Bonus', 'Business Entity ID',\n",
       "       'Commission Pct', 'Current Flag', 'Email Promotion', 'First Name',\n",
       "       'Gender', 'Hire Date', 'Job Title', 'Last Name', 'Login ID',\n",
       "       'Marital Status', 'Middle Name', 'Modified Date', 'Modified Date_x',\n",
       "       'Modified Date_y', 'ModifiedDate (Person)', 'Name Style',\n",
       "       'National ID Number', 'Number of Records', 'Number of Records_x',\n",
       "       'Number of Records_y', 'Organization Level', 'Organization Node',\n",
       "       'Pay Frequency', 'Rate', 'Rate Change Date', 'Rowguid_x', 'Rowguid_y',\n",
       "       'Salaried Flag', 'Sales Last Year', 'Sales Quota', 'Sales YTD',\n",
       "       'Sick Leave Hours', 'Suffix', 'Territory ID', 'Title', 'Vacation Hours',\n",
       "       'rowguid (Person)', 'Hire Year'],\n",
       "      dtype='object')"
      ]
     },
     "execution_count": 310,
     "metadata": {},
     "output_type": "execute_result"
    }
   ],
   "source": [
    "dfmerged.columns"
   ]
  },
  {
   "cell_type": "code",
   "execution_count": 311,
   "metadata": {
    "collapsed": false
   },
   "outputs": [
    {
     "data": {
      "text/plain": [
       "(290, 43)"
      ]
     },
     "execution_count": 311,
     "metadata": {},
     "output_type": "execute_result"
    }
   ],
   "source": [
    "df_5.shape"
   ]
  },
  {
   "cell_type": "code",
   "execution_count": null,
   "metadata": {
    "collapsed": true
   },
   "outputs": [],
   "source": []
  }
 ],
 "metadata": {
  "anaconda-cloud": {},
  "kernelspec": {
   "display_name": "Python [default]",
   "language": "python",
   "name": "python3"
  },
  "language_info": {
   "codemirror_mode": {
    "name": "ipython",
    "version": 3
   },
   "file_extension": ".py",
   "mimetype": "text/x-python",
   "name": "python",
   "nbconvert_exporter": "python",
   "pygments_lexer": "ipython3",
   "version": "3.5.2"
  }
 },
 "nbformat": 4,
 "nbformat_minor": 1
}
